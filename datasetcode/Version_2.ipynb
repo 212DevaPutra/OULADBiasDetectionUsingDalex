{
 "cells": [
  {
   "cell_type": "code",
   "execution_count": 1,
   "id": "rocky-scratch",
   "metadata": {
    "execution": {
     "iopub.execute_input": "2021-05-11T17:39:01.059319Z",
     "iopub.status.busy": "2021-05-11T17:39:01.058588Z",
     "iopub.status.idle": "2021-05-11T17:39:03.124093Z",
     "shell.execute_reply": "2021-05-11T17:39:03.123291Z"
    },
    "papermill": {
     "duration": 2.164963,
     "end_time": "2021-05-11T17:39:03.124285",
     "exception": false,
     "start_time": "2021-05-11T17:39:00.959322",
     "status": "completed"
    },
    "tags": []
   },
   "outputs": [],
   "source": [
    "# Importing Libraries\n",
    "\n",
    "import os\n",
    "import warnings\n",
    "import pandas as pd\n",
    "import numpy as np\n",
    "import seaborn as sns\n",
    "from sklearn import metrics\n",
    "from matplotlib import pyplot as plt\n",
    "from sklearn.decomposition import PCA\n",
    "from imblearn.over_sampling import SMOTE\n",
    "from sklearn.feature_selection import RFE\n",
    "from sklearn.model_selection import KFold\n",
    "from sklearn.metrics import accuracy_score\n",
    "from sklearn.metrics import confusion_matrix\n",
    "from sklearn.preprocessing import LabelEncoder\n",
    "from sklearn.preprocessing import StandardScaler\n",
    "from sklearn import linear_model, ensemble, tree\n",
    "from sklearn.metrics import classification_report\n",
    "from sklearn.linear_model import LogisticRegression\n",
    "from sklearn.model_selection import train_test_split\n",
    "from sklearn.model_selection import RandomizedSearchCV\n",
    "from statsmodels.stats.outliers_influence import variance_inflation_factor\n",
    "from sklearn.ensemble import RandomForestClassifier, GradientBoostingClassifier\n",
    "from sklearn.metrics import r2_score, mean_squared_error, mean_absolute_error\n",
    "from sklearn.model_selection import cross_val_score,GridSearchCV,cross_validate\n",
    "from sklearn.metrics import confusion_matrix, auc,roc_auc_score,roc_curve,recall_score,classification_report\n",
    "import xgboost as xgb\n",
    "warnings.filterwarnings('ignore')\n",
    "pd.set_option('display.max_rows', 100, 'display.max_columns', 400)"
   ]
  },
  {
   "cell_type": "markdown",
   "id": "later-raleigh",
   "metadata": {
    "papermill": {
     "duration": 0.085578,
     "end_time": "2021-05-11T17:39:03.299724",
     "exception": false,
     "start_time": "2021-05-11T17:39:03.214146",
     "status": "completed"
    },
    "tags": []
   },
   "source": [
    "# IMPORTING DATA"
   ]
  },
  {
   "cell_type": "code",
   "execution_count": 2,
   "id": "silver-instrumentation",
   "metadata": {
    "execution": {
     "iopub.execute_input": "2021-05-11T17:39:03.496241Z",
     "iopub.status.busy": "2021-05-11T17:39:03.495476Z",
     "iopub.status.idle": "2021-05-11T17:39:03.498489Z",
     "shell.execute_reply": "2021-05-11T17:39:03.499152Z"
    },
    "papermill": {
     "duration": 0.112593,
     "end_time": "2021-05-11T17:39:03.499328",
     "exception": false,
     "start_time": "2021-05-11T17:39:03.386735",
     "status": "completed"
    },
    "tags": []
   },
   "outputs": [],
   "source": [
    "# Function to Load the file at specified path\n",
    "# Parameters :- 1. path :- path from where file should be I\n",
    "\n",
    "def Load_File(path) :\n",
    "    if os.path.isfile(path) :\n",
    "        data = pd.read_csv(path)\n",
    "        data = data.replace('?', np.nan)\n",
    "        print(\"\\n\" + \"Number of rows in data are %s\" % len(data))\n",
    "        print(\"Number of columns in data are %s\" % len(data.columns) + \"\\n\")\n",
    "        print(\"Following are the data types of columns:- \")\n",
    "        print(data.dtypes)\n",
    "        print(\"Number of missing values in the data are:- \")\n",
    "        print(data.isnull().sum())\n",
    "        print(\"Data Import is Complete\")\n",
    "        \n",
    "        return data\n",
    "    else:\n",
    "        print(path + \" does not exist. Enter the correct path\")\n",
    "        \n",
    "\n",
    "# Generalized Function to plot the counts\n",
    "# Parameters\n",
    "# 1. rotx  : rotation of ticks on x-axis\n",
    "# 2. roty  : rotation of ticks on y-axis\n",
    "# 3. fontx : font size of ticks on x-axis\n",
    "# 4. fonty : font size of ticks on y-axis\n",
    "# 5. column_name : Name of the column for which we need the count\n",
    "# 6. data_name   : Dataframe Used for plotting\n",
    "# 7. plot_size   : Size of the plot\n",
    "# 8. hue : If second column is needed for getting the count, the hue is True else False\n",
    "# 9. hue_column_name = Second Column for plotting\n",
    "\n",
    "\n",
    "def countplot(rotx, roty, fontx, fonty, column_name, data_name, plot_size = (10, 5), hue = False, hue_column_name=None):\n",
    "    plt.figure(figsize = plot_size)\n",
    "    plt.xticks(rotation=rotx, fontsize=fontx)\n",
    "    plt.yticks(rotation=roty, fontsize=fonty)\n",
    "    sns.set_style(\"whitegrid\")\n",
    "    if not hue:\n",
    "        sns.countplot(column_name, data=data_name, palette='husl',\n",
    "                      order = data_name[column_name].value_counts().index)\n",
    "    else:\n",
    "        sns.countplot(column_name, data=data_name, \n",
    "                      palette='husl', hue = hue_column_name,\n",
    "                      order = data_name[column_name].value_counts().index)\n",
    "    sns.despine()\n",
    "\n",
    "\n",
    "# Function to Encode the Categorical Data Columns\n",
    "# Parameters 1. df :- Dataframe 2. Column_name :- Feature to encode\n",
    "\n",
    "def categorical_encoding(df, column_name_list=[]):\n",
    "    \n",
    "    for column_name in column_name_list:\n",
    "        print(df[column_name].unique())\n",
    "        categorical_columns = pd.get_dummies(df[column_name], prefix = column_name, \n",
    "                                             prefix_sep = '_', drop_first = False)\n",
    "        df = pd.concat([df, categorical_columns], axis = 1)\n",
    "        df = df.drop(column_name, axis = 1)\n",
    "    return df\n",
    "\n",
    "\n",
    "# Function to Label Encode the data\n",
    "# Parameters :- 1. data :- Dataframe 2. columns_list :- List of columns to label encode\n",
    "\n",
    "def labelEncoder(data, columns_list):\n",
    "    for col in columns_list:\n",
    "        encoder = LabelEncoder()\n",
    "        data[col]  = encoder.fit_transform(data[col])\n",
    "    return data\n",
    "\n",
    "\n",
    "# Function to plot stacked plot\n",
    "# Paramteres :- \n",
    "# data :- Dataframe used for plotting\n",
    "# column_one :- Column One to group by\n",
    "# column_two : Column Two to group by\n",
    "# agg_column : Column to count numbers\n",
    "\n",
    "def stacked_plot(data, column_one, column_two, agg_column, plot_size=(10, 5)):\n",
    "    pal     = sns.color_palette(\"colorblind\")\n",
    "    grouped = data.groupby([column_one, column_two])[agg_column].count()\n",
    "    grouped = grouped.groupby(level=0).apply(lambda x:100 * x / float(x.sum()))\n",
    "    grouped = grouped.unstack(column_two).fillna(0)\n",
    "    print(grouped)\n",
    "    unique_list = list(data[column_two].unique())\n",
    "    grouped[unique_list].plot(kind='bar', stacked=True, color=pal, figsize=plot_size)"
   ]
  },
  {
   "cell_type": "markdown",
   "id": "8c0b2496",
   "metadata": {},
   "source": [
    "Dari sini saya akan menambahkan komentar mengenai fitur-fitur yang ada pada satu tabel, penjelasan mengenai fiturnya bisa didapatkan melalui website resmi OULAD"
   ]
  },
  {
   "cell_type": "code",
   "execution_count": 3,
   "id": "intended-disaster",
   "metadata": {
    "execution": {
     "iopub.execute_input": "2021-05-11T17:39:03.676042Z",
     "iopub.status.busy": "2021-05-11T17:39:03.675270Z",
     "iopub.status.idle": "2021-05-11T17:39:03.707095Z",
     "shell.execute_reply": "2021-05-11T17:39:03.707745Z"
    },
    "papermill": {
     "duration": 0.121439,
     "end_time": "2021-05-11T17:39:03.707970",
     "exception": false,
     "start_time": "2021-05-11T17:39:03.586531",
     "status": "completed"
    },
    "tags": []
   },
   "outputs": [
    {
     "name": "stdout",
     "output_type": "stream",
     "text": [
      "\n",
      "Number of rows in data are 206\n",
      "Number of columns in data are 6\n",
      "\n",
      "Following are the data types of columns:- \n",
      "code_module           object\n",
      "code_presentation     object\n",
      "id_assessment          int64\n",
      "assessment_type       object\n",
      "date                 float64\n",
      "weight               float64\n",
      "dtype: object\n",
      "Number of missing values in the data are:- \n",
      "code_module           0\n",
      "code_presentation     0\n",
      "id_assessment         0\n",
      "assessment_type       0\n",
      "date                 11\n",
      "weight                0\n",
      "dtype: int64\n",
      "Data Import is Complete\n"
     ]
    }
   ],
   "source": [
    "# code_module          identification code of the module, to which the assessment belongs\n",
    "# code_presentation    identification code of the presentation, to which the assessment belongs\n",
    "# id_assessment        identification number of the assessment\n",
    "# assessment_type      type of assessment\n",
    "# date                 days information about the final submission date of the assessment calculated as the number of days \n",
    "#                      since the start of the module-presentation. The starting date of the presentation has number 0 (zero)\n",
    "# weight               weight of the assessment in %. Typically, Exams are treated separately and have the weight 100%\n",
    "#                      the sum of all other assessments is 100%\n",
    "\n",
    "oulad_assessment = Load_File('assessments.csv')"
   ]
  },
  {
   "cell_type": "code",
   "execution_count": 4,
   "id": "thermal-syndication",
   "metadata": {
    "execution": {
     "iopub.execute_input": "2021-05-11T17:39:03.899864Z",
     "iopub.status.busy": "2021-05-11T17:39:03.897901Z",
     "iopub.status.idle": "2021-05-11T17:39:03.918874Z",
     "shell.execute_reply": "2021-05-11T17:39:03.919425Z"
    },
    "papermill": {
     "duration": 0.1226,
     "end_time": "2021-05-11T17:39:03.919604",
     "exception": false,
     "start_time": "2021-05-11T17:39:03.797004",
     "status": "completed"
    },
    "tags": []
   },
   "outputs": [
    {
     "data": {
      "text/html": [
       "<div>\n",
       "<style scoped>\n",
       "    .dataframe tbody tr th:only-of-type {\n",
       "        vertical-align: middle;\n",
       "    }\n",
       "\n",
       "    .dataframe tbody tr th {\n",
       "        vertical-align: top;\n",
       "    }\n",
       "\n",
       "    .dataframe thead th {\n",
       "        text-align: right;\n",
       "    }\n",
       "</style>\n",
       "<table border=\"1\" class=\"dataframe\">\n",
       "  <thead>\n",
       "    <tr style=\"text-align: right;\">\n",
       "      <th></th>\n",
       "      <th>code_module</th>\n",
       "      <th>code_presentation</th>\n",
       "      <th>id_assessment</th>\n",
       "      <th>assessment_type</th>\n",
       "      <th>date</th>\n",
       "      <th>weight</th>\n",
       "    </tr>\n",
       "  </thead>\n",
       "  <tbody>\n",
       "    <tr>\n",
       "      <th>0</th>\n",
       "      <td>AAA</td>\n",
       "      <td>2013J</td>\n",
       "      <td>1752</td>\n",
       "      <td>TMA</td>\n",
       "      <td>19.0</td>\n",
       "      <td>10.0</td>\n",
       "    </tr>\n",
       "    <tr>\n",
       "      <th>1</th>\n",
       "      <td>AAA</td>\n",
       "      <td>2013J</td>\n",
       "      <td>1753</td>\n",
       "      <td>TMA</td>\n",
       "      <td>54.0</td>\n",
       "      <td>20.0</td>\n",
       "    </tr>\n",
       "    <tr>\n",
       "      <th>2</th>\n",
       "      <td>AAA</td>\n",
       "      <td>2013J</td>\n",
       "      <td>1754</td>\n",
       "      <td>TMA</td>\n",
       "      <td>117.0</td>\n",
       "      <td>20.0</td>\n",
       "    </tr>\n",
       "    <tr>\n",
       "      <th>3</th>\n",
       "      <td>AAA</td>\n",
       "      <td>2013J</td>\n",
       "      <td>1755</td>\n",
       "      <td>TMA</td>\n",
       "      <td>166.0</td>\n",
       "      <td>20.0</td>\n",
       "    </tr>\n",
       "    <tr>\n",
       "      <th>4</th>\n",
       "      <td>AAA</td>\n",
       "      <td>2013J</td>\n",
       "      <td>1756</td>\n",
       "      <td>TMA</td>\n",
       "      <td>215.0</td>\n",
       "      <td>30.0</td>\n",
       "    </tr>\n",
       "  </tbody>\n",
       "</table>\n",
       "</div>"
      ],
      "text/plain": [
       "  code_module code_presentation  id_assessment assessment_type   date  weight\n",
       "0         AAA             2013J           1752             TMA   19.0    10.0\n",
       "1         AAA             2013J           1753             TMA   54.0    20.0\n",
       "2         AAA             2013J           1754             TMA  117.0    20.0\n",
       "3         AAA             2013J           1755             TMA  166.0    20.0\n",
       "4         AAA             2013J           1756             TMA  215.0    30.0"
      ]
     },
     "execution_count": 4,
     "metadata": {},
     "output_type": "execute_result"
    }
   ],
   "source": [
    "oulad_assessment.head()"
   ]
  },
  {
   "cell_type": "code",
   "execution_count": 5,
   "id": "inappropriate-words",
   "metadata": {
    "execution": {
     "iopub.execute_input": "2021-05-11T17:39:04.101167Z",
     "iopub.status.busy": "2021-05-11T17:39:04.100406Z",
     "iopub.status.idle": "2021-05-11T17:39:04.106448Z",
     "shell.execute_reply": "2021-05-11T17:39:04.105787Z"
    },
    "papermill": {
     "duration": 0.098443,
     "end_time": "2021-05-11T17:39:04.106602",
     "exception": false,
     "start_time": "2021-05-11T17:39:04.008159",
     "status": "completed"
    },
    "tags": []
   },
   "outputs": [],
   "source": [
    "### Disini kita akan mengisi data kosong dengan mean tanggal yang ada pada tabel assesment pada kolom tanggal.\n",
    "\n",
    "oulad_assessment['date'] = oulad_assessment['date'].fillna(int(oulad_assessment['date'].astype(float).mean()))"
   ]
  },
  {
   "cell_type": "code",
   "execution_count": 6,
   "id": "precise-document",
   "metadata": {
    "execution": {
     "iopub.execute_input": "2021-05-11T17:39:04.287597Z",
     "iopub.status.busy": "2021-05-11T17:39:04.286856Z",
     "iopub.status.idle": "2021-05-11T17:39:04.296409Z",
     "shell.execute_reply": "2021-05-11T17:39:04.295808Z"
    },
    "papermill": {
     "duration": 0.100578,
     "end_time": "2021-05-11T17:39:04.296553",
     "exception": false,
     "start_time": "2021-05-11T17:39:04.195975",
     "status": "completed"
    },
    "tags": []
   },
   "outputs": [
    {
     "data": {
      "text/plain": [
       "array(['AAA', 'BBB', 'CCC', 'DDD', 'EEE', 'FFF', 'GGG'], dtype=object)"
      ]
     },
     "execution_count": 6,
     "metadata": {},
     "output_type": "execute_result"
    }
   ],
   "source": [
    "### Disini kita akan mencari ada berapa tipe modul\n",
    "\n",
    "oulad_assessment['code_module'].unique()"
   ]
  },
  {
   "cell_type": "code",
   "execution_count": 7,
   "id": "immediate-sperm",
   "metadata": {
    "execution": {
     "iopub.execute_input": "2021-05-11T17:39:04.481153Z",
     "iopub.status.busy": "2021-05-11T17:39:04.480416Z",
     "iopub.status.idle": "2021-05-11T17:39:04.486307Z",
     "shell.execute_reply": "2021-05-11T17:39:04.486884Z"
    },
    "papermill": {
     "duration": 0.100843,
     "end_time": "2021-05-11T17:39:04.487105",
     "exception": false,
     "start_time": "2021-05-11T17:39:04.386262",
     "status": "completed"
    },
    "tags": []
   },
   "outputs": [
    {
     "data": {
      "text/plain": [
       "array(['TMA', 'Exam', 'CMA'], dtype=object)"
      ]
     },
     "execution_count": 7,
     "metadata": {},
     "output_type": "execute_result"
    }
   ],
   "source": [
    "### Dan masing masing modul mempunyai 3 cara penilaian\n",
    "# TMA :- Tutor Marked Assessment (Diberikan dosen)\n",
    "# CMA :- Computer Marked Assessment (Diberikan sistem)\n",
    "# Exam :- Final Exam\n",
    "\n",
    "oulad_assessment['assessment_type'].unique()"
   ]
  },
  {
   "cell_type": "markdown",
   "id": "bee0bad1",
   "metadata": {},
   "source": [
    "Histogram di bawah ini menunjukkan rentang (range) jumlah hari yang tersisa hingga batas waktu akhir pengumpulan suatu tugas atau proyek. Dalam konteks ini, histogram digunakan untuk memvisualisasikan sebaran atau distribusi berapa banyak hari yang tersisa hingga batas waktu akhir (misalnya, deadline) untuk pengumpulan suatu tugas atau proyek.\n",
    "\n",
    "Histogram digunakan untuk melihat pola atau frekuensi berapa banyak tugas atau proyek yang memiliki berbagai jumlah hari tersisa hingga batas waktu akhir. Ini bisa membantu dalam memahami seberapa banyak tugas yang mungkin memiliki batas waktu yang mendekati atau melewati, atau seberapa banyak yang diselesaikan jauh sebelum batas waktu.\n",
    "\n",
    "Dengan kata lain, histogram tersebut memberikan gambaran visual tentang bagaimana tugas-tugas atau proyek-proyek terdistribusi dalam hal jarak waktu yang tersisa hingga batas waktu akhirnya."
   ]
  },
  {
   "cell_type": "code",
   "execution_count": 8,
   "id": "banner-business",
   "metadata": {
    "execution": {
     "iopub.execute_input": "2021-05-11T17:39:04.670068Z",
     "iopub.status.busy": "2021-05-11T17:39:04.669310Z",
     "iopub.status.idle": "2021-05-11T17:39:04.854236Z",
     "shell.execute_reply": "2021-05-11T17:39:04.854753Z"
    },
    "papermill": {
     "duration": 0.277316,
     "end_time": "2021-05-11T17:39:04.854940",
     "exception": false,
     "start_time": "2021-05-11T17:39:04.577624",
     "status": "completed"
    },
    "tags": []
   },
   "outputs": [
    {
     "data": {
      "text/plain": [
       "(array([29., 25., 22., 34., 20., 32., 44.]),\n",
       " array([ 12.        ,  47.57142857,  83.14285714, 118.71428571,\n",
       "        154.28571429, 189.85714286, 225.42857143, 261.        ]),\n",
       " <BarContainer object of 7 artists>)"
      ]
     },
     "execution_count": 8,
     "metadata": {},
     "output_type": "execute_result"
    },
    {
     "data": {
      "image/png": "[encoded data removed]",
      "text/plain": [
       "<Figure size 640x480 with 1 Axes>"
      ]
     },
     "metadata": {},
     "output_type": "display_data"
    }
   ],
   "source": [
    "plt.hist(oulad_assessment['date'].astype(int), bins=7)"
   ]
  },
  {
   "cell_type": "code",
   "execution_count": 9,
   "id": "laughing-deadline",
   "metadata": {
    "execution": {
     "iopub.execute_input": "2021-05-11T17:39:05.043676Z",
     "iopub.status.busy": "2021-05-11T17:39:05.042902Z",
     "iopub.status.idle": "2021-05-11T17:39:05.061214Z",
     "shell.execute_reply": "2021-05-11T17:39:05.060454Z"
    },
    "papermill": {
     "duration": 0.114131,
     "end_time": "2021-05-11T17:39:05.061370",
     "exception": false,
     "start_time": "2021-05-11T17:39:04.947239",
     "status": "completed"
    },
    "tags": []
   },
   "outputs": [
    {
     "name": "stdout",
     "output_type": "stream",
     "text": [
      "\n",
      "Number of rows in data are 22\n",
      "Number of columns in data are 3\n",
      "\n",
      "Following are the data types of columns:- \n",
      "code_module                   object\n",
      "code_presentation             object\n",
      "module_presentation_length     int64\n",
      "dtype: object\n",
      "Number of missing values in the data are:- \n",
      "code_module                   0\n",
      "code_presentation             0\n",
      "module_presentation_length    0\n",
      "dtype: int64\n",
      "Data Import is Complete\n"
     ]
    }
   ],
   "source": [
    "# code_module         name of the module, which serves as the identifier\n",
    "# code_presentation   name of the presentation. It consists of the year and B for the presentation \n",
    "#                     starting in February and J for the presentation starting in October\n",
    "# length              length of the module presentation in days\n",
    "\n",
    "oulad_courses = Load_File('courses.csv')"
   ]
  },
  {
   "cell_type": "code",
   "execution_count": 10,
   "id": "lesser-savage",
   "metadata": {
    "execution": {
     "iopub.execute_input": "2021-05-11T17:39:05.262593Z",
     "iopub.status.busy": "2021-05-11T17:39:05.258676Z",
     "iopub.status.idle": "2021-05-11T17:39:05.269303Z",
     "shell.execute_reply": "2021-05-11T17:39:05.268475Z"
    },
    "papermill": {
     "duration": 0.114328,
     "end_time": "2021-05-11T17:39:05.269473",
     "exception": false,
     "start_time": "2021-05-11T17:39:05.155145",
     "status": "completed"
    },
    "scrolled": true,
    "tags": []
   },
   "outputs": [
    {
     "data": {
      "text/html": [
       "<div>\n",
       "<style scoped>\n",
       "    .dataframe tbody tr th:only-of-type {\n",
       "        vertical-align: middle;\n",
       "    }\n",
       "\n",
       "    .dataframe tbody tr th {\n",
       "        vertical-align: top;\n",
       "    }\n",
       "\n",
       "    .dataframe thead th {\n",
       "        text-align: right;\n",
       "    }\n",
       "</style>\n",
       "<table border=\"1\" class=\"dataframe\">\n",
       "  <thead>\n",
       "    <tr style=\"text-align: right;\">\n",
       "      <th></th>\n",
       "      <th>code_module</th>\n",
       "      <th>code_presentation</th>\n",
       "      <th>module_presentation_length</th>\n",
       "    </tr>\n",
       "  </thead>\n",
       "  <tbody>\n",
       "    <tr>\n",
       "      <th>0</th>\n",
       "      <td>AAA</td>\n",
       "      <td>2013J</td>\n",
       "      <td>268</td>\n",
       "    </tr>\n",
       "    <tr>\n",
       "      <th>1</th>\n",
       "      <td>AAA</td>\n",
       "      <td>2014J</td>\n",
       "      <td>269</td>\n",
       "    </tr>\n",
       "    <tr>\n",
       "      <th>2</th>\n",
       "      <td>BBB</td>\n",
       "      <td>2013J</td>\n",
       "      <td>268</td>\n",
       "    </tr>\n",
       "    <tr>\n",
       "      <th>3</th>\n",
       "      <td>BBB</td>\n",
       "      <td>2014J</td>\n",
       "      <td>262</td>\n",
       "    </tr>\n",
       "    <tr>\n",
       "      <th>4</th>\n",
       "      <td>BBB</td>\n",
       "      <td>2013B</td>\n",
       "      <td>240</td>\n",
       "    </tr>\n",
       "  </tbody>\n",
       "</table>\n",
       "</div>"
      ],
      "text/plain": [
       "  code_module code_presentation  module_presentation_length\n",
       "0         AAA             2013J                         268\n",
       "1         AAA             2014J                         269\n",
       "2         BBB             2013J                         268\n",
       "3         BBB             2014J                         262\n",
       "4         BBB             2013B                         240"
      ]
     },
     "execution_count": 10,
     "metadata": {},
     "output_type": "execute_result"
    }
   ],
   "source": [
    "oulad_courses.head()"
   ]
  },
  {
   "cell_type": "code",
   "execution_count": 11,
   "id": "blind-texas",
   "metadata": {
    "execution": {
     "iopub.execute_input": "2021-05-11T17:39:05.465710Z",
     "iopub.status.busy": "2021-05-11T17:39:05.464842Z",
     "iopub.status.idle": "2021-05-11T17:39:05.651735Z",
     "shell.execute_reply": "2021-05-11T17:39:05.652420Z"
    },
    "papermill": {
     "duration": 0.288773,
     "end_time": "2021-05-11T17:39:05.652613",
     "exception": false,
     "start_time": "2021-05-11T17:39:05.363840",
     "status": "completed"
    },
    "tags": []
   },
   "outputs": [
    {
     "name": "stdout",
     "output_type": "stream",
     "text": [
      "\n",
      "Number of rows in data are 173912\n",
      "Number of columns in data are 5\n",
      "\n",
      "Following are the data types of columns:- \n",
      "id_assessment       int64\n",
      "id_student          int64\n",
      "date_submitted      int64\n",
      "is_banked           int64\n",
      "score             float64\n",
      "dtype: object\n",
      "Number of missing values in the data are:- \n",
      "id_assessment       0\n",
      "id_student          0\n",
      "date_submitted      0\n",
      "is_banked           0\n",
      "score             173\n",
      "dtype: int64\n",
      "Data Import is Complete\n"
     ]
    }
   ],
   "source": [
    "# id_assessment            the identification number of the assessment\n",
    "# id_student               a unique identification number for the student\n",
    "# date_submitted           the date of student submission, measured as the number of days \n",
    "#.                         since the start of the module presentation\n",
    "# is_banked                a status flag indicating that the assessment result has been transferred from a previous presentation\n",
    "# score                    the studentís score in this assessment. The range is from 0 to 100. The score lower than 40 is \n",
    "#                          interpreted as Fail. The marks are in the range from 0 to 100\n",
    "\n",
    "oulad_student_assessment = Load_File('studentAssessment.csv')"
   ]
  },
  {
   "cell_type": "code",
   "execution_count": 12,
   "id": "super-benefit",
   "metadata": {
    "execution": {
     "iopub.execute_input": "2021-05-11T17:39:05.850548Z",
     "iopub.status.busy": "2021-05-11T17:39:05.849144Z",
     "iopub.status.idle": "2021-05-11T17:39:05.884401Z",
     "shell.execute_reply": "2021-05-11T17:39:05.884983Z"
    },
    "papermill": {
     "duration": 0.141483,
     "end_time": "2021-05-11T17:39:05.885163",
     "exception": false,
     "start_time": "2021-05-11T17:39:05.743680",
     "status": "completed"
    },
    "tags": []
   },
   "outputs": [],
   "source": [
    "### Disini akan kita drop nilai yang kosong, mengapa? Karena data yang hilang sangat sedikit (insignifikan) \n",
    "### dibandingkan total datanya\n",
    "\n",
    "oulad_student_assessment = oulad_student_assessment.dropna()"
   ]
  },
  {
   "cell_type": "code",
   "execution_count": 13,
   "id": "artificial-basketball",
   "metadata": {
    "execution": {
     "iopub.execute_input": "2021-05-11T17:39:06.084500Z",
     "iopub.status.busy": "2021-05-11T17:39:06.083801Z",
     "iopub.status.idle": "2021-05-11T17:39:06.089756Z",
     "shell.execute_reply": "2021-05-11T17:39:06.089124Z"
    },
    "papermill": {
     "duration": 0.112513,
     "end_time": "2021-05-11T17:39:06.089919",
     "exception": false,
     "start_time": "2021-05-11T17:39:05.977406",
     "status": "completed"
    },
    "tags": []
   },
   "outputs": [
    {
     "data": {
      "text/html": [
       "<div>\n",
       "<style scoped>\n",
       "    .dataframe tbody tr th:only-of-type {\n",
       "        vertical-align: middle;\n",
       "    }\n",
       "\n",
       "    .dataframe tbody tr th {\n",
       "        vertical-align: top;\n",
       "    }\n",
       "\n",
       "    .dataframe thead th {\n",
       "        text-align: right;\n",
       "    }\n",
       "</style>\n",
       "<table border=\"1\" class=\"dataframe\">\n",
       "  <thead>\n",
       "    <tr style=\"text-align: right;\">\n",
       "      <th></th>\n",
       "      <th>id_assessment</th>\n",
       "      <th>id_student</th>\n",
       "      <th>date_submitted</th>\n",
       "      <th>is_banked</th>\n",
       "      <th>score</th>\n",
       "    </tr>\n",
       "  </thead>\n",
       "  <tbody>\n",
       "    <tr>\n",
       "      <th>0</th>\n",
       "      <td>1752</td>\n",
       "      <td>11391</td>\n",
       "      <td>18</td>\n",
       "      <td>0</td>\n",
       "      <td>78.0</td>\n",
       "    </tr>\n",
       "    <tr>\n",
       "      <th>1</th>\n",
       "      <td>1752</td>\n",
       "      <td>28400</td>\n",
       "      <td>22</td>\n",
       "      <td>0</td>\n",
       "      <td>70.0</td>\n",
       "    </tr>\n",
       "    <tr>\n",
       "      <th>2</th>\n",
       "      <td>1752</td>\n",
       "      <td>31604</td>\n",
       "      <td>17</td>\n",
       "      <td>0</td>\n",
       "      <td>72.0</td>\n",
       "    </tr>\n",
       "    <tr>\n",
       "      <th>3</th>\n",
       "      <td>1752</td>\n",
       "      <td>32885</td>\n",
       "      <td>26</td>\n",
       "      <td>0</td>\n",
       "      <td>69.0</td>\n",
       "    </tr>\n",
       "    <tr>\n",
       "      <th>4</th>\n",
       "      <td>1752</td>\n",
       "      <td>38053</td>\n",
       "      <td>19</td>\n",
       "      <td>0</td>\n",
       "      <td>79.0</td>\n",
       "    </tr>\n",
       "  </tbody>\n",
       "</table>\n",
       "</div>"
      ],
      "text/plain": [
       "   id_assessment  id_student  date_submitted  is_banked  score\n",
       "0           1752       11391              18          0   78.0\n",
       "1           1752       28400              22          0   70.0\n",
       "2           1752       31604              17          0   72.0\n",
       "3           1752       32885              26          0   69.0\n",
       "4           1752       38053              19          0   79.0"
      ]
     },
     "execution_count": 13,
     "metadata": {},
     "output_type": "execute_result"
    }
   ],
   "source": [
    "oulad_student_assessment.head()"
   ]
  },
  {
   "cell_type": "code",
   "execution_count": 14,
   "id": "bacterial-uncle",
   "metadata": {
    "execution": {
     "iopub.execute_input": "2021-05-11T17:39:06.281163Z",
     "iopub.status.busy": "2021-05-11T17:39:06.280389Z",
     "iopub.status.idle": "2021-05-11T17:39:06.344182Z",
     "shell.execute_reply": "2021-05-11T17:39:06.343449Z"
    },
    "papermill": {
     "duration": 0.160631,
     "end_time": "2021-05-11T17:39:06.344336",
     "exception": false,
     "start_time": "2021-05-11T17:39:06.183705",
     "status": "completed"
    },
    "tags": []
   },
   "outputs": [
    {
     "name": "stdout",
     "output_type": "stream",
     "text": [
      "\n",
      "Number of rows in data are 32593\n",
      "Number of columns in data are 5\n",
      "\n",
      "Following are the data types of columns:- \n",
      "code_module             object\n",
      "code_presentation       object\n",
      "id_student               int64\n",
      "date_registration      float64\n",
      "date_unregistration    float64\n",
      "dtype: object\n",
      "Number of missing values in the data are:- \n",
      "code_module                0\n",
      "code_presentation          0\n",
      "id_student                 0\n",
      "date_registration         45\n",
      "date_unregistration    22521\n",
      "dtype: int64\n",
      "Data Import is Complete\n"
     ]
    }
   ],
   "source": [
    "# code_module             an identification code for a module\n",
    "# code_presentation       the identification code of the presentation\n",
    "# id_student              a unique identification number for the student\n",
    "# date_registration       the date of student's registration on the module presentation, this is the number of days measured relative to \n",
    "#                         the start of the module-presentation (e.g. the negative value -30 means that the student registered to module\n",
    "#                         presentation 30 days before it started)\n",
    "# date_unregistration     date of student unregistration from the module presentation, this is the number of days measured relative to \n",
    "#                         the start of the module-presentation. Students, who completed the course have this field empty. Students who \n",
    "#                         unregistered have Withdrawal as the value of the final_result column in the studentInfo.csv file\n",
    "\n",
    "oulad_student_registration = Load_File('studentRegistration.csv')"
   ]
  },
  {
   "cell_type": "code",
   "execution_count": 15,
   "id": "animated-remainder",
   "metadata": {
    "execution": {
     "iopub.execute_input": "2021-05-11T17:39:06.549320Z",
     "iopub.status.busy": "2021-05-11T17:39:06.543984Z",
     "iopub.status.idle": "2021-05-11T17:39:06.581210Z",
     "shell.execute_reply": "2021-05-11T17:39:06.581715Z"
    },
    "papermill": {
     "duration": 0.144102,
     "end_time": "2021-05-11T17:39:06.581904",
     "exception": false,
     "start_time": "2021-05-11T17:39:06.437802",
     "status": "completed"
    },
    "tags": []
   },
   "outputs": [],
   "source": [
    "## Dari deskripsi di atas maka bisa dilihat banyak sekali missing value pada kolom date_unreg\n",
    "## jika tidak ada missing value maka dikatakan siswa telah menyelesaikan course sedangkan jika kosong dikatakan 'withdrawn'\n",
    "\n",
    "## 0 : 'COMPLETED'\n",
    "## 1 : 'WITHDRAWN'\n",
    "\n",
    "## Karena sedikit sekali missing value pada kolom date_reg maka akan diisi dengan 0 begitu pula yang ada di kolom date_unreg\n",
    "## sedangkan kolom date unregistration akan ditandai dengan 1 jika data tidak null\n",
    "\n",
    "oulad_student_registration['date_unregistration'] = ['0' if pd.isnull(days) else '1' for days in oulad_student_registration['date_unregistration']]\n",
    "oulad_student_registration['date_registration']   = oulad_student_registration['date_registration'].fillna(0).astype(float).apply(abs)\n"
   ]
  },
  {
   "cell_type": "code",
   "execution_count": 16,
   "id": "civil-brazil",
   "metadata": {
    "execution": {
     "iopub.execute_input": "2021-05-11T17:39:06.784526Z",
     "iopub.status.busy": "2021-05-11T17:39:06.783464Z",
     "iopub.status.idle": "2021-05-11T17:39:06.788324Z",
     "shell.execute_reply": "2021-05-11T17:39:06.787617Z"
    },
    "papermill": {
     "duration": 0.112328,
     "end_time": "2021-05-11T17:39:06.788482",
     "exception": false,
     "start_time": "2021-05-11T17:39:06.676154",
     "status": "completed"
    },
    "tags": []
   },
   "outputs": [
    {
     "data": {
      "text/html": [
       "<div>\n",
       "<style scoped>\n",
       "    .dataframe tbody tr th:only-of-type {\n",
       "        vertical-align: middle;\n",
       "    }\n",
       "\n",
       "    .dataframe tbody tr th {\n",
       "        vertical-align: top;\n",
       "    }\n",
       "\n",
       "    .dataframe thead th {\n",
       "        text-align: right;\n",
       "    }\n",
       "</style>\n",
       "<table border=\"1\" class=\"dataframe\">\n",
       "  <thead>\n",
       "    <tr style=\"text-align: right;\">\n",
       "      <th></th>\n",
       "      <th>code_module</th>\n",
       "      <th>code_presentation</th>\n",
       "      <th>id_student</th>\n",
       "      <th>date_registration</th>\n",
       "      <th>date_unregistration</th>\n",
       "    </tr>\n",
       "  </thead>\n",
       "  <tbody>\n",
       "    <tr>\n",
       "      <th>0</th>\n",
       "      <td>AAA</td>\n",
       "      <td>2013J</td>\n",
       "      <td>11391</td>\n",
       "      <td>159.0</td>\n",
       "      <td>0</td>\n",
       "    </tr>\n",
       "    <tr>\n",
       "      <th>1</th>\n",
       "      <td>AAA</td>\n",
       "      <td>2013J</td>\n",
       "      <td>28400</td>\n",
       "      <td>53.0</td>\n",
       "      <td>0</td>\n",
       "    </tr>\n",
       "    <tr>\n",
       "      <th>2</th>\n",
       "      <td>AAA</td>\n",
       "      <td>2013J</td>\n",
       "      <td>30268</td>\n",
       "      <td>92.0</td>\n",
       "      <td>1</td>\n",
       "    </tr>\n",
       "    <tr>\n",
       "      <th>3</th>\n",
       "      <td>AAA</td>\n",
       "      <td>2013J</td>\n",
       "      <td>31604</td>\n",
       "      <td>52.0</td>\n",
       "      <td>0</td>\n",
       "    </tr>\n",
       "    <tr>\n",
       "      <th>4</th>\n",
       "      <td>AAA</td>\n",
       "      <td>2013J</td>\n",
       "      <td>32885</td>\n",
       "      <td>176.0</td>\n",
       "      <td>0</td>\n",
       "    </tr>\n",
       "  </tbody>\n",
       "</table>\n",
       "</div>"
      ],
      "text/plain": [
       "  code_module code_presentation  id_student  date_registration   \n",
       "0         AAA             2013J       11391              159.0  \\\n",
       "1         AAA             2013J       28400               53.0   \n",
       "2         AAA             2013J       30268               92.0   \n",
       "3         AAA             2013J       31604               52.0   \n",
       "4         AAA             2013J       32885              176.0   \n",
       "\n",
       "  date_unregistration  \n",
       "0                   0  \n",
       "1                   0  \n",
       "2                   1  \n",
       "3                   0  \n",
       "4                   0  "
      ]
     },
     "execution_count": 16,
     "metadata": {},
     "output_type": "execute_result"
    }
   ],
   "source": [
    "oulad_student_registration.head()"
   ]
  },
  {
   "cell_type": "code",
   "execution_count": 17,
   "id": "original-logistics",
   "metadata": {
    "execution": {
     "iopub.execute_input": "2021-05-11T17:39:06.981310Z",
     "iopub.status.busy": "2021-05-11T17:39:06.980617Z",
     "iopub.status.idle": "2021-05-11T17:39:07.150740Z",
     "shell.execute_reply": "2021-05-11T17:39:07.150082Z"
    },
    "papermill": {
     "duration": 0.268258,
     "end_time": "2021-05-11T17:39:07.150930",
     "exception": false,
     "start_time": "2021-05-11T17:39:06.882672",
     "status": "completed"
    },
    "tags": []
   },
   "outputs": [
    {
     "name": "stdout",
     "output_type": "stream",
     "text": [
      "\n",
      "Number of rows in data are 32593\n",
      "Number of columns in data are 12\n",
      "\n",
      "Following are the data types of columns:- \n",
      "code_module             object\n",
      "code_presentation       object\n",
      "id_student               int64\n",
      "gender                  object\n",
      "region                  object\n",
      "highest_education       object\n",
      "imd_band                object\n",
      "age_band                object\n",
      "num_of_prev_attempts     int64\n",
      "studied_credits          int64\n",
      "disability              object\n",
      "final_result            object\n",
      "dtype: object\n",
      "Number of missing values in the data are:- \n",
      "code_module                0\n",
      "code_presentation          0\n",
      "id_student                 0\n",
      "gender                     0\n",
      "region                     0\n",
      "highest_education          0\n",
      "imd_band                1111\n",
      "age_band                   0\n",
      "num_of_prev_attempts       0\n",
      "studied_credits            0\n",
      "disability                 0\n",
      "final_result               0\n",
      "dtype: int64\n",
      "Data Import is Complete\n"
     ]
    }
   ],
   "source": [
    "\"\"\"Loading Student Information Data\"\"\"\n",
    "\n",
    "# code_module             an identification code for a module on which the student is registered\n",
    "# code_presentation       the identification code of the presentation during which the student is registered on the module\n",
    "# id_student              a unique identification number for the student\n",
    "# gender                  the studentís gender\n",
    "# region                  identifies the geographic region, where the student lived while taking the module-presentation\n",
    "# highest_education       highest student education level on entry to the module presentation\n",
    "# imd_band                specifies the Index of Multiple Depravation band of the place where the student lived during the module-presentation\n",
    "# age_band                band of the studentís age\n",
    "# num_of_prev_attempts    the number times the student has attempted this module\n",
    "# studied_credits         the total number of credits for the modules the student is currently studying\n",
    "# disability              indicates whether the student has declared a disability\n",
    "# final_result            studentís final result in the module-presentation\n",
    "\n",
    "oulad_student_info = Load_File('studentInfo.csv')"
   ]
  },
  {
   "cell_type": "markdown",
   "id": "02ab2fb5",
   "metadata": {},
   "source": [
    "Ada nilai yang hilang (missing values) dalam kolom \"imd_band.\" Kolom ini berisi informasi tentang kategori atau kelompok tertentu yang berkaitan dengan suatu data. Misalnya, \"imd_band\" bisa mengacu pada kelompok tingkat kekayaan atau indeks deprivasi.\n",
    "\n",
    "Untuk mengatasi nilai yang hilang dalam kolom \"imd_band,\" maka saya mengisi nilai-nilai yang hilang dengan nilai yang paling sering muncul dalam kolom tersebut. Nilai yang paling sering muncul ini disebut \"mode.\" Pendekatan ini akan mengisi nilai-nilai yang hilang dengan kategori yang paling umum atau paling sering muncul dalam data, sehingga memungkinkan data tersebut untuk tetap digunakan dalam analisis atau pemodelan lebih lanjut tanpa menghilangkan baris dengan nilai yang hilang."
   ]
  },
  {
   "cell_type": "code",
   "execution_count": 18,
   "id": "suitable-first",
   "metadata": {
    "execution": {
     "iopub.execute_input": "2021-05-11T17:39:07.362911Z",
     "iopub.status.busy": "2021-05-11T17:39:07.361887Z",
     "iopub.status.idle": "2021-05-11T17:39:07.369310Z",
     "shell.execute_reply": "2021-05-11T17:39:07.368481Z"
    },
    "papermill": {
     "duration": 0.123253,
     "end_time": "2021-05-11T17:39:07.369502",
     "exception": false,
     "start_time": "2021-05-11T17:39:07.246249",
     "status": "completed"
    },
    "tags": []
   },
   "outputs": [
    {
     "name": "stdout",
     "output_type": "stream",
     "text": [
      "['90-100%' '20-30%' '30-40%' '50-60%' '80-90%' '70-80%' nan '60-70%'\n",
      " '40-50%' '10-20' '0-10%']\n"
     ]
    }
   ],
   "source": [
    "print(oulad_student_info['imd_band'].unique())\n",
    "\n",
    "oulad_student_info['imd_band'] = oulad_student_info['imd_band'].fillna(oulad_student_info['imd_band'].mode()[0])"
   ]
  },
  {
   "cell_type": "code",
   "execution_count": 19,
   "id": "substantial-malaysia",
   "metadata": {
    "execution": {
     "iopub.execute_input": "2021-05-11T17:39:07.577263Z",
     "iopub.status.busy": "2021-05-11T17:39:07.576549Z",
     "iopub.status.idle": "2021-05-11T17:39:07.582067Z",
     "shell.execute_reply": "2021-05-11T17:39:07.580681Z"
    },
    "papermill": {
     "duration": 0.116639,
     "end_time": "2021-05-11T17:39:07.582245",
     "exception": false,
     "start_time": "2021-05-11T17:39:07.465606",
     "status": "completed"
    },
    "tags": []
   },
   "outputs": [
    {
     "data": {
      "text/html": [
       "<div>\n",
       "<style scoped>\n",
       "    .dataframe tbody tr th:only-of-type {\n",
       "        vertical-align: middle;\n",
       "    }\n",
       "\n",
       "    .dataframe tbody tr th {\n",
       "        vertical-align: top;\n",
       "    }\n",
       "\n",
       "    .dataframe thead th {\n",
       "        text-align: right;\n",
       "    }\n",
       "</style>\n",
       "<table border=\"1\" class=\"dataframe\">\n",
       "  <thead>\n",
       "    <tr style=\"text-align: right;\">\n",
       "      <th></th>\n",
       "      <th>code_module</th>\n",
       "      <th>code_presentation</th>\n",
       "      <th>id_student</th>\n",
       "      <th>gender</th>\n",
       "      <th>region</th>\n",
       "      <th>highest_education</th>\n",
       "      <th>imd_band</th>\n",
       "      <th>age_band</th>\n",
       "      <th>num_of_prev_attempts</th>\n",
       "      <th>studied_credits</th>\n",
       "      <th>disability</th>\n",
       "      <th>final_result</th>\n",
       "    </tr>\n",
       "  </thead>\n",
       "  <tbody>\n",
       "    <tr>\n",
       "      <th>0</th>\n",
       "      <td>AAA</td>\n",
       "      <td>2013J</td>\n",
       "      <td>11391</td>\n",
       "      <td>M</td>\n",
       "      <td>East Anglian Region</td>\n",
       "      <td>HE Qualification</td>\n",
       "      <td>90-100%</td>\n",
       "      <td>55&lt;=</td>\n",
       "      <td>0</td>\n",
       "      <td>240</td>\n",
       "      <td>N</td>\n",
       "      <td>Pass</td>\n",
       "    </tr>\n",
       "    <tr>\n",
       "      <th>1</th>\n",
       "      <td>AAA</td>\n",
       "      <td>2013J</td>\n",
       "      <td>28400</td>\n",
       "      <td>F</td>\n",
       "      <td>Scotland</td>\n",
       "      <td>HE Qualification</td>\n",
       "      <td>20-30%</td>\n",
       "      <td>35-55</td>\n",
       "      <td>0</td>\n",
       "      <td>60</td>\n",
       "      <td>N</td>\n",
       "      <td>Pass</td>\n",
       "    </tr>\n",
       "    <tr>\n",
       "      <th>2</th>\n",
       "      <td>AAA</td>\n",
       "      <td>2013J</td>\n",
       "      <td>30268</td>\n",
       "      <td>F</td>\n",
       "      <td>North Western Region</td>\n",
       "      <td>A Level or Equivalent</td>\n",
       "      <td>30-40%</td>\n",
       "      <td>35-55</td>\n",
       "      <td>0</td>\n",
       "      <td>60</td>\n",
       "      <td>Y</td>\n",
       "      <td>Withdrawn</td>\n",
       "    </tr>\n",
       "    <tr>\n",
       "      <th>3</th>\n",
       "      <td>AAA</td>\n",
       "      <td>2013J</td>\n",
       "      <td>31604</td>\n",
       "      <td>F</td>\n",
       "      <td>South East Region</td>\n",
       "      <td>A Level or Equivalent</td>\n",
       "      <td>50-60%</td>\n",
       "      <td>35-55</td>\n",
       "      <td>0</td>\n",
       "      <td>60</td>\n",
       "      <td>N</td>\n",
       "      <td>Pass</td>\n",
       "    </tr>\n",
       "    <tr>\n",
       "      <th>4</th>\n",
       "      <td>AAA</td>\n",
       "      <td>2013J</td>\n",
       "      <td>32885</td>\n",
       "      <td>F</td>\n",
       "      <td>West Midlands Region</td>\n",
       "      <td>Lower Than A Level</td>\n",
       "      <td>50-60%</td>\n",
       "      <td>0-35</td>\n",
       "      <td>0</td>\n",
       "      <td>60</td>\n",
       "      <td>N</td>\n",
       "      <td>Pass</td>\n",
       "    </tr>\n",
       "  </tbody>\n",
       "</table>\n",
       "</div>"
      ],
      "text/plain": [
       "  code_module code_presentation  id_student gender                region   \n",
       "0         AAA             2013J       11391      M   East Anglian Region  \\\n",
       "1         AAA             2013J       28400      F              Scotland   \n",
       "2         AAA             2013J       30268      F  North Western Region   \n",
       "3         AAA             2013J       31604      F     South East Region   \n",
       "4         AAA             2013J       32885      F  West Midlands Region   \n",
       "\n",
       "       highest_education imd_band age_band  num_of_prev_attempts   \n",
       "0       HE Qualification  90-100%     55<=                     0  \\\n",
       "1       HE Qualification   20-30%    35-55                     0   \n",
       "2  A Level or Equivalent   30-40%    35-55                     0   \n",
       "3  A Level or Equivalent   50-60%    35-55                     0   \n",
       "4     Lower Than A Level   50-60%     0-35                     0   \n",
       "\n",
       "   studied_credits disability final_result  \n",
       "0              240          N         Pass  \n",
       "1               60          N         Pass  \n",
       "2               60          Y    Withdrawn  \n",
       "3               60          N         Pass  \n",
       "4               60          N         Pass  "
      ]
     },
     "execution_count": 19,
     "metadata": {},
     "output_type": "execute_result"
    }
   ],
   "source": [
    "oulad_student_info.head()"
   ]
  },
  {
   "cell_type": "code",
   "execution_count": 20,
   "id": "advanced-afghanistan",
   "metadata": {
    "execution": {
     "iopub.execute_input": "2021-05-11T17:39:07.777090Z",
     "iopub.status.busy": "2021-05-11T17:39:07.776172Z",
     "iopub.status.idle": "2021-05-11T17:39:23.025003Z",
     "shell.execute_reply": "2021-05-11T17:39:23.023554Z"
    },
    "papermill": {
     "duration": 15.348617,
     "end_time": "2021-05-11T17:39:23.025174",
     "exception": false,
     "start_time": "2021-05-11T17:39:07.676557",
     "status": "completed"
    },
    "tags": []
   },
   "outputs": [
    {
     "name": "stdout",
     "output_type": "stream",
     "text": [
      "\n",
      "Number of rows in data are 10655280\n",
      "Number of columns in data are 6\n",
      "\n",
      "Following are the data types of columns:- \n",
      "code_module          object\n",
      "code_presentation    object\n",
      "id_student            int64\n",
      "id_site               int64\n",
      "date                  int64\n",
      "sum_click             int64\n",
      "dtype: object\n",
      "Number of missing values in the data are:- \n",
      "code_module          0\n",
      "code_presentation    0\n",
      "id_student           0\n",
      "id_site              0\n",
      "date                 0\n",
      "sum_click            0\n",
      "dtype: int64\n",
      "Data Import is Complete\n"
     ]
    }
   ],
   "source": [
    "# code_module           an identification code for a module\n",
    "# code_presentation     the identification code of the module presentation\n",
    "# id_student            a unique identification number for the student\n",
    "# id_site               an identification number for the VLE material\n",
    "# date                  the date of studentís interaction with the material measured as the \n",
    "#                       number of days since the start of the module-presentation\n",
    "# sum_click             the number of times a student interacts with the material in that day \n",
    "\n",
    "oulad_student_vle = Load_File('studentVle.csv')"
   ]
  },
  {
   "cell_type": "code",
   "execution_count": 21,
   "id": "covered-differential",
   "metadata": {
    "execution": {
     "iopub.execute_input": "2021-05-11T17:39:23.228888Z",
     "iopub.status.busy": "2021-05-11T17:39:23.228193Z",
     "iopub.status.idle": "2021-05-11T17:39:23.232723Z",
     "shell.execute_reply": "2021-05-11T17:39:23.232194Z"
    },
    "papermill": {
     "duration": 0.111476,
     "end_time": "2021-05-11T17:39:23.232870",
     "exception": false,
     "start_time": "2021-05-11T17:39:23.121394",
     "status": "completed"
    },
    "tags": []
   },
   "outputs": [
    {
     "data": {
      "text/html": [
       "<div>\n",
       "<style scoped>\n",
       "    .dataframe tbody tr th:only-of-type {\n",
       "        vertical-align: middle;\n",
       "    }\n",
       "\n",
       "    .dataframe tbody tr th {\n",
       "        vertical-align: top;\n",
       "    }\n",
       "\n",
       "    .dataframe thead th {\n",
       "        text-align: right;\n",
       "    }\n",
       "</style>\n",
       "<table border=\"1\" class=\"dataframe\">\n",
       "  <thead>\n",
       "    <tr style=\"text-align: right;\">\n",
       "      <th></th>\n",
       "      <th>code_module</th>\n",
       "      <th>code_presentation</th>\n",
       "      <th>id_student</th>\n",
       "      <th>id_site</th>\n",
       "      <th>date</th>\n",
       "      <th>sum_click</th>\n",
       "    </tr>\n",
       "  </thead>\n",
       "  <tbody>\n",
       "    <tr>\n",
       "      <th>0</th>\n",
       "      <td>AAA</td>\n",
       "      <td>2013J</td>\n",
       "      <td>28400</td>\n",
       "      <td>546652</td>\n",
       "      <td>-10</td>\n",
       "      <td>4</td>\n",
       "    </tr>\n",
       "    <tr>\n",
       "      <th>1</th>\n",
       "      <td>AAA</td>\n",
       "      <td>2013J</td>\n",
       "      <td>28400</td>\n",
       "      <td>546652</td>\n",
       "      <td>-10</td>\n",
       "      <td>1</td>\n",
       "    </tr>\n",
       "    <tr>\n",
       "      <th>2</th>\n",
       "      <td>AAA</td>\n",
       "      <td>2013J</td>\n",
       "      <td>28400</td>\n",
       "      <td>546652</td>\n",
       "      <td>-10</td>\n",
       "      <td>1</td>\n",
       "    </tr>\n",
       "    <tr>\n",
       "      <th>3</th>\n",
       "      <td>AAA</td>\n",
       "      <td>2013J</td>\n",
       "      <td>28400</td>\n",
       "      <td>546614</td>\n",
       "      <td>-10</td>\n",
       "      <td>11</td>\n",
       "    </tr>\n",
       "    <tr>\n",
       "      <th>4</th>\n",
       "      <td>AAA</td>\n",
       "      <td>2013J</td>\n",
       "      <td>28400</td>\n",
       "      <td>546714</td>\n",
       "      <td>-10</td>\n",
       "      <td>1</td>\n",
       "    </tr>\n",
       "  </tbody>\n",
       "</table>\n",
       "</div>"
      ],
      "text/plain": [
       "  code_module code_presentation  id_student  id_site  date  sum_click\n",
       "0         AAA             2013J       28400   546652   -10          4\n",
       "1         AAA             2013J       28400   546652   -10          1\n",
       "2         AAA             2013J       28400   546652   -10          1\n",
       "3         AAA             2013J       28400   546614   -10         11\n",
       "4         AAA             2013J       28400   546714   -10          1"
      ]
     },
     "execution_count": 21,
     "metadata": {},
     "output_type": "execute_result"
    }
   ],
   "source": [
    "oulad_student_vle.head()"
   ]
  },
  {
   "cell_type": "code",
   "execution_count": 22,
   "id": "backed-compiler",
   "metadata": {
    "execution": {
     "iopub.execute_input": "2021-05-11T17:39:23.431049Z",
     "iopub.status.busy": "2021-05-11T17:39:23.430328Z",
     "iopub.status.idle": "2021-05-11T17:39:23.459826Z",
     "shell.execute_reply": "2021-05-11T17:39:23.460507Z"
    },
    "papermill": {
     "duration": 0.131595,
     "end_time": "2021-05-11T17:39:23.460703",
     "exception": false,
     "start_time": "2021-05-11T17:39:23.329108",
     "status": "completed"
    },
    "tags": []
   },
   "outputs": [
    {
     "name": "stdout",
     "output_type": "stream",
     "text": [
      "\n",
      "Number of rows in data are 6364\n",
      "Number of columns in data are 6\n",
      "\n",
      "Following are the data types of columns:- \n",
      "id_site                int64\n",
      "code_module           object\n",
      "code_presentation     object\n",
      "activity_type         object\n",
      "week_from            float64\n",
      "week_to              float64\n",
      "dtype: object\n",
      "Number of missing values in the data are:- \n",
      "id_site                 0\n",
      "code_module             0\n",
      "code_presentation       0\n",
      "activity_type           0\n",
      "week_from            5243\n",
      "week_to              5243\n",
      "dtype: int64\n",
      "Data Import is Complete\n"
     ]
    }
   ],
   "source": [
    "# id_site              an identification number of the material\n",
    "# code_module          an identification code for module\n",
    "# code_presentation    the identification code of presentation\n",
    "# activity_type        the role associated with the module material\n",
    "# week_from            the week from which the material is planned to be used\n",
    "# week_to              week until which the material is planned to be used\n",
    "\n",
    "oulad_vle = Load_File('vle.csv')"
   ]
  },
  {
   "cell_type": "code",
   "execution_count": 23,
   "id": "junior-desire",
   "metadata": {
    "execution": {
     "iopub.execute_input": "2021-05-11T17:39:23.657893Z",
     "iopub.status.busy": "2021-05-11T17:39:23.657158Z",
     "iopub.status.idle": "2021-05-11T17:39:23.663666Z",
     "shell.execute_reply": "2021-05-11T17:39:23.663088Z"
    },
    "papermill": {
     "duration": 0.105932,
     "end_time": "2021-05-11T17:39:23.663804",
     "exception": false,
     "start_time": "2021-05-11T17:39:23.557872",
     "status": "completed"
    },
    "tags": []
   },
   "outputs": [],
   "source": [
    "### Karena ada hampir 100% data yang hilang pada kolom week_from dan week_to maka kita drop saja kolomnya\n",
    "\n",
    "oulad_vle = oulad_vle.drop(['week_from', 'week_to'], axis = 1)"
   ]
  },
  {
   "cell_type": "code",
   "execution_count": 24,
   "id": "harmful-things",
   "metadata": {
    "execution": {
     "iopub.execute_input": "2021-05-11T17:39:23.868875Z",
     "iopub.status.busy": "2021-05-11T17:39:23.868152Z",
     "iopub.status.idle": "2021-05-11T17:39:23.871982Z",
     "shell.execute_reply": "2021-05-11T17:39:23.871385Z"
    },
    "papermill": {
     "duration": 0.111995,
     "end_time": "2021-05-11T17:39:23.872127",
     "exception": false,
     "start_time": "2021-05-11T17:39:23.760132",
     "status": "completed"
    },
    "tags": []
   },
   "outputs": [
    {
     "data": {
      "text/html": [
       "<div>\n",
       "<style scoped>\n",
       "    .dataframe tbody tr th:only-of-type {\n",
       "        vertical-align: middle;\n",
       "    }\n",
       "\n",
       "    .dataframe tbody tr th {\n",
       "        vertical-align: top;\n",
       "    }\n",
       "\n",
       "    .dataframe thead th {\n",
       "        text-align: right;\n",
       "    }\n",
       "</style>\n",
       "<table border=\"1\" class=\"dataframe\">\n",
       "  <thead>\n",
       "    <tr style=\"text-align: right;\">\n",
       "      <th></th>\n",
       "      <th>id_site</th>\n",
       "      <th>code_module</th>\n",
       "      <th>code_presentation</th>\n",
       "      <th>activity_type</th>\n",
       "    </tr>\n",
       "  </thead>\n",
       "  <tbody>\n",
       "    <tr>\n",
       "      <th>0</th>\n",
       "      <td>546943</td>\n",
       "      <td>AAA</td>\n",
       "      <td>2013J</td>\n",
       "      <td>resource</td>\n",
       "    </tr>\n",
       "    <tr>\n",
       "      <th>1</th>\n",
       "      <td>546712</td>\n",
       "      <td>AAA</td>\n",
       "      <td>2013J</td>\n",
       "      <td>oucontent</td>\n",
       "    </tr>\n",
       "    <tr>\n",
       "      <th>2</th>\n",
       "      <td>546998</td>\n",
       "      <td>AAA</td>\n",
       "      <td>2013J</td>\n",
       "      <td>resource</td>\n",
       "    </tr>\n",
       "    <tr>\n",
       "      <th>3</th>\n",
       "      <td>546888</td>\n",
       "      <td>AAA</td>\n",
       "      <td>2013J</td>\n",
       "      <td>url</td>\n",
       "    </tr>\n",
       "    <tr>\n",
       "      <th>4</th>\n",
       "      <td>547035</td>\n",
       "      <td>AAA</td>\n",
       "      <td>2013J</td>\n",
       "      <td>resource</td>\n",
       "    </tr>\n",
       "  </tbody>\n",
       "</table>\n",
       "</div>"
      ],
      "text/plain": [
       "   id_site code_module code_presentation activity_type\n",
       "0   546943         AAA             2013J      resource\n",
       "1   546712         AAA             2013J     oucontent\n",
       "2   546998         AAA             2013J      resource\n",
       "3   546888         AAA             2013J           url\n",
       "4   547035         AAA             2013J      resource"
      ]
     },
     "execution_count": 24,
     "metadata": {},
     "output_type": "execute_result"
    }
   ],
   "source": [
    "oulad_vle.head()"
   ]
  },
  {
   "cell_type": "code",
   "execution_count": 25,
   "id": "lightweight-diary",
   "metadata": {
    "execution": {
     "iopub.execute_input": "2021-05-11T17:39:24.099891Z",
     "iopub.status.busy": "2021-05-11T17:39:24.099247Z",
     "iopub.status.idle": "2021-05-11T17:39:24.397075Z",
     "shell.execute_reply": "2021-05-11T17:39:24.396257Z"
    },
    "papermill": {
     "duration": 0.419189,
     "end_time": "2021-05-11T17:39:24.397233",
     "exception": false,
     "start_time": "2021-05-11T17:39:23.978044",
     "status": "completed"
    },
    "tags": []
   },
   "outputs": [
    {
     "data": {
      "image/png": "[encoded data removed]",
      "text/plain": [
       "<Figure size 2500x1000 with 1 Axes>"
      ]
     },
     "metadata": {},
     "output_type": "display_data"
    }
   ],
   "source": [
    "### Dari sini kita bisa melihat bahwa tipe aktivitas paling banyak pada LMS adalah 'Resources'\n",
    "\n",
    "# Set ukuran plot\n",
    "plt.figure(figsize=(25, 10))\n",
    "\n",
    "# Membuat countplot\n",
    "sns.countplot(data=oulad_vle, x='activity_type')\n",
    "\n",
    "# Menambahkan judul\n",
    "plt.title('Count of Activity Types')\n",
    "\n",
    "# Menampilkan plot\n",
    "plt.show()"
   ]
  },
  {
   "attachments": {
    "image.png": {
     "image/png": "[encoded data removed]"
    }
   },
   "cell_type": "markdown",
   "id": "center-serum",
   "metadata": {
    "papermill": {
     "duration": 0.097598,
     "end_time": "2021-05-11T17:39:24.594523",
     "exception": false,
     "start_time": "2021-05-11T17:39:24.496925",
     "status": "completed"
    },
    "tags": []
   },
   "source": [
    "# INTEGRASI DATA\n",
    "\n",
    "#### Disini kita akan mulai Integrasi Data berdasarkan tabel yang ada pada website OULAD\n",
    "\n",
    "Database schema.png![image.png](attachment:image.png)"
   ]
  },
  {
   "cell_type": "markdown",
   "id": "amended-hundred",
   "metadata": {
    "papermill": {
     "duration": 0.097581,
     "end_time": "2021-05-11T17:39:24.789785",
     "exception": false,
     "start_time": "2021-05-11T17:39:24.692204",
     "status": "completed"
    },
    "tags": []
   },
   "source": [
    "### Langkah pertama kita bisa gabungkan tabel student vle dan vle. Dari sini seharusnya kita bisa melihat interaksi siswa dengan LMS."
   ]
  },
  {
   "cell_type": "code",
   "execution_count": 26,
   "id": "interested-overhead",
   "metadata": {
    "execution": {
     "iopub.execute_input": "2021-05-11T17:39:24.995915Z",
     "iopub.status.busy": "2021-05-11T17:39:24.995209Z",
     "iopub.status.idle": "2021-05-11T17:39:28.938728Z",
     "shell.execute_reply": "2021-05-11T17:39:28.938093Z"
    },
    "papermill": {
     "duration": 4.046813,
     "end_time": "2021-05-11T17:39:28.938883",
     "exception": false,
     "start_time": "2021-05-11T17:39:24.892070",
     "status": "completed"
    },
    "tags": []
   },
   "outputs": [],
   "source": [
    "student_vle_merge_vle = oulad_student_vle.merge(oulad_vle, \n",
    "                                                on=['id_site', 'code_module', 'code_presentation'],\n",
    "                                                how = 'left')"
   ]
  },
  {
   "cell_type": "markdown",
   "id": "83dfab3d",
   "metadata": {},
   "source": [
    "Dari merge tabel di bawah bisa dilihat bahwa tabel menggambarkan bahwa dalam data atau studi yang sedang dilakukan, terlihat bahwa ada banyak interaksi yang dilakukan oleh seorang siswa sebelum kursus dimulai. Dalam konteks ini, \"interaksi\" merujuk pada aktivitas atau keterlibatan siswa dalam bahan atau materi kursus sebelum kursus tersebut secara resmi dimulai.\n",
    "\n",
    "Pernyataan tersebut kemudian mengusulkan dua hal:\n",
    "\n",
    "Asumsi tentang Minat Siswa: Asumsi dibuat bahwa jika seorang siswa tertarik dalam kursus tersebut, maka mereka akan berinteraksi dengan materi kursus sebelum kursus dimulai. Dengan kata lain, siswa yang aktif berinteraksi dengan materi sebelum kursus dimulai kemungkinan besar memiliki minat yang tinggi dalam kursus tersebut.\n",
    "\n",
    "Jumlah Klik Sebelum dan Setelah Kursus Dimulai: Untuk mengukur minat dan keterlibatan siswa, jumlah klik (interaksi) yang dilakukan oleh siswa sebelum dan setelah kursus dimulai akan dihitung. Ini akan memberikan informasi tentang seberapa aktif siswa dalam memeriksa materi sebelum kursus dimulai (misalnya, materi prakursus atau informasi kursus pra-awal) dan seberapa aktif mereka selama kursus berlangsung.\n",
    "\n",
    "Dengan mengamati jumlah klik sebelum dan setelah kursus dimulai, penelitian atau analisis ini berusaha untuk menentukan apakah ada korelasi antara tingkat keterlibatan awal siswa dengan hasil akhir atau kinerja mereka dalam kursus. Dalam beberapa konteks, tingkat keterlibatan awal dapat digunakan sebagai faktor penting untuk memprediksi apakah seorang siswa akan berhasil atau tidak dalam kursus tersebut."
   ]
  },
  {
   "cell_type": "code",
   "execution_count": 27,
   "id": "significant-stock",
   "metadata": {
    "execution": {
     "iopub.execute_input": "2021-05-11T17:39:29.151496Z",
     "iopub.status.busy": "2021-05-11T17:39:29.150288Z",
     "iopub.status.idle": "2021-05-11T17:39:30.100043Z",
     "shell.execute_reply": "2021-05-11T17:39:30.100597Z"
    },
    "papermill": {
     "duration": 1.062072,
     "end_time": "2021-05-11T17:39:30.100792",
     "exception": false,
     "start_time": "2021-05-11T17:39:29.038720",
     "status": "completed"
    },
    "tags": []
   },
   "outputs": [
    {
     "data": {
      "text/html": [
       "<div>\n",
       "<style scoped>\n",
       "    .dataframe tbody tr th:only-of-type {\n",
       "        vertical-align: middle;\n",
       "    }\n",
       "\n",
       "    .dataframe tbody tr th {\n",
       "        vertical-align: top;\n",
       "    }\n",
       "\n",
       "    .dataframe thead th {\n",
       "        text-align: right;\n",
       "    }\n",
       "</style>\n",
       "<table border=\"1\" class=\"dataframe\">\n",
       "  <thead>\n",
       "    <tr style=\"text-align: right;\">\n",
       "      <th></th>\n",
       "      <th>code_module</th>\n",
       "      <th>code_presentation</th>\n",
       "      <th>id_student</th>\n",
       "      <th>id_site</th>\n",
       "      <th>date</th>\n",
       "      <th>sum_click</th>\n",
       "      <th>activity_type</th>\n",
       "    </tr>\n",
       "  </thead>\n",
       "  <tbody>\n",
       "    <tr>\n",
       "      <th>0</th>\n",
       "      <td>AAA</td>\n",
       "      <td>2013J</td>\n",
       "      <td>28400</td>\n",
       "      <td>546652</td>\n",
       "      <td>-10</td>\n",
       "      <td>4</td>\n",
       "      <td>forumng</td>\n",
       "    </tr>\n",
       "    <tr>\n",
       "      <th>1</th>\n",
       "      <td>AAA</td>\n",
       "      <td>2013J</td>\n",
       "      <td>28400</td>\n",
       "      <td>546652</td>\n",
       "      <td>-10</td>\n",
       "      <td>1</td>\n",
       "      <td>forumng</td>\n",
       "    </tr>\n",
       "    <tr>\n",
       "      <th>2</th>\n",
       "      <td>AAA</td>\n",
       "      <td>2013J</td>\n",
       "      <td>28400</td>\n",
       "      <td>546652</td>\n",
       "      <td>-10</td>\n",
       "      <td>1</td>\n",
       "      <td>forumng</td>\n",
       "    </tr>\n",
       "    <tr>\n",
       "      <th>3</th>\n",
       "      <td>AAA</td>\n",
       "      <td>2013J</td>\n",
       "      <td>28400</td>\n",
       "      <td>546614</td>\n",
       "      <td>-10</td>\n",
       "      <td>11</td>\n",
       "      <td>homepage</td>\n",
       "    </tr>\n",
       "    <tr>\n",
       "      <th>4</th>\n",
       "      <td>AAA</td>\n",
       "      <td>2013J</td>\n",
       "      <td>28400</td>\n",
       "      <td>546714</td>\n",
       "      <td>-10</td>\n",
       "      <td>1</td>\n",
       "      <td>oucontent</td>\n",
       "    </tr>\n",
       "    <tr>\n",
       "      <th>5</th>\n",
       "      <td>AAA</td>\n",
       "      <td>2013J</td>\n",
       "      <td>28400</td>\n",
       "      <td>546652</td>\n",
       "      <td>-10</td>\n",
       "      <td>8</td>\n",
       "      <td>forumng</td>\n",
       "    </tr>\n",
       "    <tr>\n",
       "      <th>6</th>\n",
       "      <td>AAA</td>\n",
       "      <td>2013J</td>\n",
       "      <td>28400</td>\n",
       "      <td>546876</td>\n",
       "      <td>-10</td>\n",
       "      <td>2</td>\n",
       "      <td>subpage</td>\n",
       "    </tr>\n",
       "    <tr>\n",
       "      <th>7</th>\n",
       "      <td>AAA</td>\n",
       "      <td>2013J</td>\n",
       "      <td>28400</td>\n",
       "      <td>546688</td>\n",
       "      <td>-10</td>\n",
       "      <td>15</td>\n",
       "      <td>oucontent</td>\n",
       "    </tr>\n",
       "    <tr>\n",
       "      <th>8</th>\n",
       "      <td>AAA</td>\n",
       "      <td>2013J</td>\n",
       "      <td>28400</td>\n",
       "      <td>546662</td>\n",
       "      <td>-10</td>\n",
       "      <td>17</td>\n",
       "      <td>oucontent</td>\n",
       "    </tr>\n",
       "    <tr>\n",
       "      <th>9</th>\n",
       "      <td>AAA</td>\n",
       "      <td>2013J</td>\n",
       "      <td>28400</td>\n",
       "      <td>546890</td>\n",
       "      <td>-10</td>\n",
       "      <td>1</td>\n",
       "      <td>url</td>\n",
       "    </tr>\n",
       "  </tbody>\n",
       "</table>\n",
       "</div>"
      ],
      "text/plain": [
       "  code_module code_presentation  id_student  id_site  date  sum_click   \n",
       "0         AAA             2013J       28400   546652   -10          4  \\\n",
       "1         AAA             2013J       28400   546652   -10          1   \n",
       "2         AAA             2013J       28400   546652   -10          1   \n",
       "3         AAA             2013J       28400   546614   -10         11   \n",
       "4         AAA             2013J       28400   546714   -10          1   \n",
       "5         AAA             2013J       28400   546652   -10          8   \n",
       "6         AAA             2013J       28400   546876   -10          2   \n",
       "7         AAA             2013J       28400   546688   -10         15   \n",
       "8         AAA             2013J       28400   546662   -10         17   \n",
       "9         AAA             2013J       28400   546890   -10          1   \n",
       "\n",
       "  activity_type  \n",
       "0       forumng  \n",
       "1       forumng  \n",
       "2       forumng  \n",
       "3      homepage  \n",
       "4     oucontent  \n",
       "5       forumng  \n",
       "6       subpage  \n",
       "7     oucontent  \n",
       "8     oucontent  \n",
       "9           url  "
      ]
     },
     "execution_count": 27,
     "metadata": {},
     "output_type": "execute_result"
    }
   ],
   "source": [
    "student_vle_merge_vle[(student_vle_merge_vle['id_student']==28400) & (student_vle_merge_vle['date']<0)].head(10)"
   ]
  },
  {
   "cell_type": "code",
   "execution_count": 28,
   "id": "existing-marking",
   "metadata": {
    "execution": {
     "iopub.execute_input": "2021-05-11T17:39:41.360314Z",
     "iopub.status.busy": "2021-05-11T17:39:41.355946Z",
     "iopub.status.idle": "2021-05-11T17:39:52.546325Z",
     "shell.execute_reply": "2021-05-11T17:39:52.545676Z"
    },
    "papermill": {
     "duration": 11.316106,
     "end_time": "2021-05-11T17:39:52.546480",
     "exception": false,
     "start_time": "2021-05-11T17:39:41.230374",
     "status": "completed"
    },
    "tags": []
   },
   "outputs": [
    {
     "data": {
      "image/png": "[encoded data removed]",
      "text/plain": [
       "<Figure size 2000x1000 with 1 Axes>"
      ]
     },
     "metadata": {},
     "output_type": "display_data"
    }
   ],
   "source": [
    "### Plot dibawah akan memperlihatkan cara apa yang digunakan siswa untuk mengakses VLE\n",
    "### Kita bisa lihat bahwa paling banyak melalui ForumNG (Open University Forum Platform),\n",
    "### oucontent (Open University Content), subpage dan homepage.\n",
    "\n",
    "# Set ukuran plot\n",
    "plt.figure(figsize=(20, 10))\n",
    "\n",
    "# Membuat countplot\n",
    "sns.countplot(data=student_vle_merge_vle, x='activity_type')\n",
    "\n",
    "# Menambahkan judul\n",
    "plt.title('Count of Activity Types')\n",
    "\n",
    "# Menampilkan plot\n",
    "plt.show()"
   ]
  },
  {
   "cell_type": "code",
   "execution_count": 29,
   "id": "modern-playing",
   "metadata": {
    "execution": {
     "iopub.execute_input": "2021-05-11T17:39:52.785414Z",
     "iopub.status.busy": "2021-05-11T17:39:52.784041Z",
     "iopub.status.idle": "2021-05-11T17:39:54.273854Z",
     "shell.execute_reply": "2021-05-11T17:39:54.273303Z"
    },
    "papermill": {
     "duration": 1.619727,
     "end_time": "2021-05-11T17:39:54.274022",
     "exception": false,
     "start_time": "2021-05-11T17:39:52.654295",
     "status": "completed"
    },
    "tags": []
   },
   "outputs": [
    {
     "data": {
      "text/plain": [
       "<Axes: xlabel='activity_type'>"
      ]
     },
     "execution_count": 29,
     "metadata": {},
     "output_type": "execute_result"
    },
    {
     "data": {
      "image/png": "[encoded data removed]",
      "text/plain": [
       "<Figure size 1500x500 with 1 Axes>"
      ]
     },
     "metadata": {},
     "output_type": "display_data"
    }
   ],
   "source": [
    "plt.figure(figsize = (15, 5))\n",
    "plt.xticks(rotation=90, fontsize=15)\n",
    "plt.yticks(rotation=0, fontsize=12)\n",
    "sns.set_style(\"whitegrid\")\n",
    "student_vle_merge_vle.groupby(['activity_type'], as_index=True)['sum_click'].mean().sort_values(ascending=False).plot(kind='bar')\n"
   ]
  },
  {
   "cell_type": "markdown",
   "id": "e11bbe82",
   "metadata": {},
   "source": [
    "Plot tersebut menggambarkan rata-rata interaksi siswa dengan setiap jenis aktivitas atau tipe aktivitas yang tersedia dalam data. Plot ini bertujuan untuk memberikan pemahaman tentang seberapa sering siswa berinteraksi dengan berbagai jenis aktivitas dalam lingkungan pembelajaran online atau platform pembelajaran.\n",
    "\n",
    "Berikut adalah penjelasan satu per satu:\n",
    "\n",
    "Interaksi dengan QUIZ: Pada plot, terlihat bahwa ada tingkat interaksi yang tinggi dengan jenis aktivitas \"QUIZ.\" Ini bisa dimengerti karena siswa umumnya berinteraksi dengan kuis setelah belajar sesuatu. Kuis dapat digunakan untuk menguji pemahaman siswa terhadap materi yang baru dipelajari.\n",
    "\n",
    "Interaksi dengan OUCONTENT: Terlihat bahwa aktivitas \"OUCONTENT\" juga memiliki tingkat interaksi yang tinggi. Ini bisa dimengerti karena siswa sering berinteraksi dengan konten atau materi pembelajaran untuk memahami materi yang diajarkan.\n",
    "\n",
    "Interaksi dengan GLOSSARY: Aktivitas \"GLOSSARY\" juga memiliki tingkat interaksi yang tinggi. Ini menunjukkan bahwa siswa sering menggunakan glosarium untuk memahami istilah atau kata-kata kunci dalam materi pembelajaran. Glosarium dapat membantu mereka memahami dengan lebih baik apa yang diajarkan.\n",
    "\n",
    "Interaksi dengan OUWIKI: Aktivitas \"OUWIKI\" juga menunjukkan tingkat interaksi yang tinggi. Ini mungkin karena siswa menggunakan wiki untuk mendapatkan informasi tambahan atau mendalam tentang topik tertentu.\n",
    "\n",
    "Secara keseluruhan, plot ini membantu dalam memahami pola interaksi siswa dengan berbagai jenis aktivitas dalam lingkungan pembelajaran online, dan interpretasi tersebut memberikan beberapa pemahaman tentang bagaimana siswa memanfaatkan sumber daya pembelajaran yang tersedia untuk mereka."
   ]
  },
  {
   "cell_type": "code",
   "execution_count": 30,
   "id": "productive-distribution",
   "metadata": {
    "execution": {
     "iopub.execute_input": "2021-05-11T17:39:54.498246Z",
     "iopub.status.busy": "2021-05-11T17:39:54.497505Z",
     "iopub.status.idle": "2021-05-11T17:39:54.502383Z",
     "shell.execute_reply": "2021-05-11T17:39:54.501717Z"
    },
    "papermill": {
     "duration": 0.12383,
     "end_time": "2021-05-11T17:39:54.502533",
     "exception": false,
     "start_time": "2021-05-11T17:39:54.378703",
     "status": "completed"
    },
    "tags": []
   },
   "outputs": [
    {
     "data": {
      "text/html": [
       "<div>\n",
       "<style scoped>\n",
       "    .dataframe tbody tr th:only-of-type {\n",
       "        vertical-align: middle;\n",
       "    }\n",
       "\n",
       "    .dataframe tbody tr th {\n",
       "        vertical-align: top;\n",
       "    }\n",
       "\n",
       "    .dataframe thead th {\n",
       "        text-align: right;\n",
       "    }\n",
       "</style>\n",
       "<table border=\"1\" class=\"dataframe\">\n",
       "  <thead>\n",
       "    <tr style=\"text-align: right;\">\n",
       "      <th></th>\n",
       "      <th>code_module</th>\n",
       "      <th>code_presentation</th>\n",
       "      <th>id_student</th>\n",
       "      <th>id_site</th>\n",
       "      <th>date</th>\n",
       "      <th>sum_click</th>\n",
       "      <th>activity_type</th>\n",
       "    </tr>\n",
       "  </thead>\n",
       "  <tbody>\n",
       "    <tr>\n",
       "      <th>0</th>\n",
       "      <td>AAA</td>\n",
       "      <td>2013J</td>\n",
       "      <td>28400</td>\n",
       "      <td>546652</td>\n",
       "      <td>-10</td>\n",
       "      <td>4</td>\n",
       "      <td>forumng</td>\n",
       "    </tr>\n",
       "    <tr>\n",
       "      <th>1</th>\n",
       "      <td>AAA</td>\n",
       "      <td>2013J</td>\n",
       "      <td>28400</td>\n",
       "      <td>546652</td>\n",
       "      <td>-10</td>\n",
       "      <td>1</td>\n",
       "      <td>forumng</td>\n",
       "    </tr>\n",
       "    <tr>\n",
       "      <th>2</th>\n",
       "      <td>AAA</td>\n",
       "      <td>2013J</td>\n",
       "      <td>28400</td>\n",
       "      <td>546652</td>\n",
       "      <td>-10</td>\n",
       "      <td>1</td>\n",
       "      <td>forumng</td>\n",
       "    </tr>\n",
       "    <tr>\n",
       "      <th>3</th>\n",
       "      <td>AAA</td>\n",
       "      <td>2013J</td>\n",
       "      <td>28400</td>\n",
       "      <td>546614</td>\n",
       "      <td>-10</td>\n",
       "      <td>11</td>\n",
       "      <td>homepage</td>\n",
       "    </tr>\n",
       "    <tr>\n",
       "      <th>4</th>\n",
       "      <td>AAA</td>\n",
       "      <td>2013J</td>\n",
       "      <td>28400</td>\n",
       "      <td>546714</td>\n",
       "      <td>-10</td>\n",
       "      <td>1</td>\n",
       "      <td>oucontent</td>\n",
       "    </tr>\n",
       "  </tbody>\n",
       "</table>\n",
       "</div>"
      ],
      "text/plain": [
       "  code_module code_presentation  id_student  id_site  date  sum_click   \n",
       "0         AAA             2013J       28400   546652   -10          4  \\\n",
       "1         AAA             2013J       28400   546652   -10          1   \n",
       "2         AAA             2013J       28400   546652   -10          1   \n",
       "3         AAA             2013J       28400   546614   -10         11   \n",
       "4         AAA             2013J       28400   546714   -10          1   \n",
       "\n",
       "  activity_type  \n",
       "0       forumng  \n",
       "1       forumng  \n",
       "2       forumng  \n",
       "3      homepage  \n",
       "4     oucontent  "
      ]
     },
     "execution_count": 30,
     "metadata": {},
     "output_type": "execute_result"
    }
   ],
   "source": [
    "student_vle_merge_vle.head()"
   ]
  },
  {
   "cell_type": "markdown",
   "id": "caroline-vancouver",
   "metadata": {
    "papermill": {
     "duration": 0.106809,
     "end_time": "2021-05-11T17:39:54.716019",
     "exception": false,
     "start_time": "2021-05-11T17:39:54.609210",
     "status": "completed"
    },
    "tags": []
   },
   "source": [
    "###### Disini kita coba merge tabel studentRegistration dengan tabel courses untuk mengetahuin korelasi antara registrasi dan panjang course(durasinya)"
   ]
  },
  {
   "cell_type": "code",
   "execution_count": 31,
   "id": "turned-strip",
   "metadata": {
    "execution": {
     "iopub.execute_input": "2021-05-11T17:39:54.941747Z",
     "iopub.status.busy": "2021-05-11T17:39:54.941059Z",
     "iopub.status.idle": "2021-05-11T17:39:54.951041Z",
     "shell.execute_reply": "2021-05-11T17:39:54.950300Z"
    },
    "papermill": {
     "duration": 0.129781,
     "end_time": "2021-05-11T17:39:54.951203",
     "exception": false,
     "start_time": "2021-05-11T17:39:54.821422",
     "status": "completed"
    },
    "tags": []
   },
   "outputs": [],
   "source": [
    "student_registration_merge_courses = oulad_student_registration.merge(oulad_courses, \n",
    "                                                                      on = ['code_module', 'code_presentation'],\n",
    "                                                                      how = 'left')"
   ]
  },
  {
   "cell_type": "code",
   "execution_count": 32,
   "id": "committed-clarity",
   "metadata": {
    "execution": {
     "iopub.execute_input": "2021-05-11T17:39:55.168768Z",
     "iopub.status.busy": "2021-05-11T17:39:55.168034Z",
     "iopub.status.idle": "2021-05-11T17:39:55.201748Z",
     "shell.execute_reply": "2021-05-11T17:39:55.202274Z"
    },
    "papermill": {
     "duration": 0.145768,
     "end_time": "2021-05-11T17:39:55.202479",
     "exception": false,
     "start_time": "2021-05-11T17:39:55.056711",
     "status": "completed"
    },
    "tags": []
   },
   "outputs": [],
   "source": [
    "student_registration_merge_courses['Year'] = student_registration_merge_courses['code_presentation'].str[0:4]\n",
    "student_registration_merge_courses['Starting_Month'] = ['February' if code[-1] == 'B' else 'October' \n",
    "                                                        for code in student_registration_merge_courses['code_presentation']]"
   ]
  },
  {
   "cell_type": "code",
   "execution_count": 33,
   "id": "welsh-geology",
   "metadata": {
    "execution": {
     "iopub.execute_input": "2021-05-11T17:39:55.416154Z",
     "iopub.status.busy": "2021-05-11T17:39:55.415363Z",
     "iopub.status.idle": "2021-05-11T17:39:55.439293Z",
     "shell.execute_reply": "2021-05-11T17:39:55.438434Z"
    },
    "papermill": {
     "duration": 0.13182,
     "end_time": "2021-05-11T17:39:55.439457",
     "exception": false,
     "start_time": "2021-05-11T17:39:55.307637",
     "status": "completed"
    },
    "tags": []
   },
   "outputs": [
    {
     "data": {
      "text/html": [
       "<div>\n",
       "<style scoped>\n",
       "    .dataframe tbody tr th:only-of-type {\n",
       "        vertical-align: middle;\n",
       "    }\n",
       "\n",
       "    .dataframe tbody tr th {\n",
       "        vertical-align: top;\n",
       "    }\n",
       "\n",
       "    .dataframe thead th {\n",
       "        text-align: right;\n",
       "    }\n",
       "</style>\n",
       "<table border=\"1\" class=\"dataframe\">\n",
       "  <thead>\n",
       "    <tr style=\"text-align: right;\">\n",
       "      <th></th>\n",
       "      <th>code_module</th>\n",
       "      <th>code_presentation</th>\n",
       "      <th>id_student</th>\n",
       "      <th>date_registration</th>\n",
       "      <th>date_unregistration</th>\n",
       "      <th>module_presentation_length</th>\n",
       "      <th>Year</th>\n",
       "      <th>Starting_Month</th>\n",
       "    </tr>\n",
       "  </thead>\n",
       "  <tbody>\n",
       "    <tr>\n",
       "      <th>0</th>\n",
       "      <td>AAA</td>\n",
       "      <td>2013J</td>\n",
       "      <td>11391</td>\n",
       "      <td>159.0</td>\n",
       "      <td>0</td>\n",
       "      <td>268</td>\n",
       "      <td>2013</td>\n",
       "      <td>October</td>\n",
       "    </tr>\n",
       "    <tr>\n",
       "      <th>1</th>\n",
       "      <td>AAA</td>\n",
       "      <td>2013J</td>\n",
       "      <td>28400</td>\n",
       "      <td>53.0</td>\n",
       "      <td>0</td>\n",
       "      <td>268</td>\n",
       "      <td>2013</td>\n",
       "      <td>October</td>\n",
       "    </tr>\n",
       "    <tr>\n",
       "      <th>2</th>\n",
       "      <td>AAA</td>\n",
       "      <td>2013J</td>\n",
       "      <td>30268</td>\n",
       "      <td>92.0</td>\n",
       "      <td>1</td>\n",
       "      <td>268</td>\n",
       "      <td>2013</td>\n",
       "      <td>October</td>\n",
       "    </tr>\n",
       "    <tr>\n",
       "      <th>3</th>\n",
       "      <td>AAA</td>\n",
       "      <td>2013J</td>\n",
       "      <td>31604</td>\n",
       "      <td>52.0</td>\n",
       "      <td>0</td>\n",
       "      <td>268</td>\n",
       "      <td>2013</td>\n",
       "      <td>October</td>\n",
       "    </tr>\n",
       "    <tr>\n",
       "      <th>4</th>\n",
       "      <td>AAA</td>\n",
       "      <td>2013J</td>\n",
       "      <td>32885</td>\n",
       "      <td>176.0</td>\n",
       "      <td>0</td>\n",
       "      <td>268</td>\n",
       "      <td>2013</td>\n",
       "      <td>October</td>\n",
       "    </tr>\n",
       "    <tr>\n",
       "      <th>...</th>\n",
       "      <td>...</td>\n",
       "      <td>...</td>\n",
       "      <td>...</td>\n",
       "      <td>...</td>\n",
       "      <td>...</td>\n",
       "      <td>...</td>\n",
       "      <td>...</td>\n",
       "      <td>...</td>\n",
       "    </tr>\n",
       "    <tr>\n",
       "      <th>32588</th>\n",
       "      <td>GGG</td>\n",
       "      <td>2014J</td>\n",
       "      <td>2640965</td>\n",
       "      <td>4.0</td>\n",
       "      <td>0</td>\n",
       "      <td>269</td>\n",
       "      <td>2014</td>\n",
       "      <td>October</td>\n",
       "    </tr>\n",
       "    <tr>\n",
       "      <th>32589</th>\n",
       "      <td>GGG</td>\n",
       "      <td>2014J</td>\n",
       "      <td>2645731</td>\n",
       "      <td>23.0</td>\n",
       "      <td>0</td>\n",
       "      <td>269</td>\n",
       "      <td>2014</td>\n",
       "      <td>October</td>\n",
       "    </tr>\n",
       "    <tr>\n",
       "      <th>32590</th>\n",
       "      <td>GGG</td>\n",
       "      <td>2014J</td>\n",
       "      <td>2648187</td>\n",
       "      <td>129.0</td>\n",
       "      <td>0</td>\n",
       "      <td>269</td>\n",
       "      <td>2014</td>\n",
       "      <td>October</td>\n",
       "    </tr>\n",
       "    <tr>\n",
       "      <th>32591</th>\n",
       "      <td>GGG</td>\n",
       "      <td>2014J</td>\n",
       "      <td>2679821</td>\n",
       "      <td>49.0</td>\n",
       "      <td>1</td>\n",
       "      <td>269</td>\n",
       "      <td>2014</td>\n",
       "      <td>October</td>\n",
       "    </tr>\n",
       "    <tr>\n",
       "      <th>32592</th>\n",
       "      <td>GGG</td>\n",
       "      <td>2014J</td>\n",
       "      <td>2684003</td>\n",
       "      <td>28.0</td>\n",
       "      <td>0</td>\n",
       "      <td>269</td>\n",
       "      <td>2014</td>\n",
       "      <td>October</td>\n",
       "    </tr>\n",
       "  </tbody>\n",
       "</table>\n",
       "<p>32593 rows × 8 columns</p>\n",
       "</div>"
      ],
      "text/plain": [
       "      code_module code_presentation  id_student  date_registration   \n",
       "0             AAA             2013J       11391              159.0  \\\n",
       "1             AAA             2013J       28400               53.0   \n",
       "2             AAA             2013J       30268               92.0   \n",
       "3             AAA             2013J       31604               52.0   \n",
       "4             AAA             2013J       32885              176.0   \n",
       "...           ...               ...         ...                ...   \n",
       "32588         GGG             2014J     2640965                4.0   \n",
       "32589         GGG             2014J     2645731               23.0   \n",
       "32590         GGG             2014J     2648187              129.0   \n",
       "32591         GGG             2014J     2679821               49.0   \n",
       "32592         GGG             2014J     2684003               28.0   \n",
       "\n",
       "      date_unregistration  module_presentation_length  Year Starting_Month  \n",
       "0                       0                         268  2013        October  \n",
       "1                       0                         268  2013        October  \n",
       "2                       1                         268  2013        October  \n",
       "3                       0                         268  2013        October  \n",
       "4                       0                         268  2013        October  \n",
       "...                   ...                         ...   ...            ...  \n",
       "32588                   0                         269  2014        October  \n",
       "32589                   0                         269  2014        October  \n",
       "32590                   0                         269  2014        October  \n",
       "32591                   1                         269  2014        October  \n",
       "32592                   0                         269  2014        October  \n",
       "\n",
       "[32593 rows x 8 columns]"
      ]
     },
     "execution_count": 33,
     "metadata": {},
     "output_type": "execute_result"
    }
   ],
   "source": [
    "student_registration_merge_courses"
   ]
  },
  {
   "cell_type": "code",
   "execution_count": 34,
   "id": "tested-webcam",
   "metadata": {
    "execution": {
     "iopub.execute_input": "2021-05-11T17:39:55.688683Z",
     "iopub.status.busy": "2021-05-11T17:39:55.687223Z",
     "iopub.status.idle": "2021-05-11T17:39:55.914835Z",
     "shell.execute_reply": "2021-05-11T17:39:55.913753Z"
    },
    "papermill": {
     "duration": 0.368193,
     "end_time": "2021-05-11T17:39:55.915020",
     "exception": false,
     "start_time": "2021-05-11T17:39:55.546827",
     "status": "completed"
    },
    "tags": []
   },
   "outputs": [
    {
     "data": {
      "image/png": "[encoded data removed]",
      "text/plain": [
       "<Figure size 800x600 with 1 Axes>"
      ]
     },
     "metadata": {},
     "output_type": "display_data"
    }
   ],
   "source": [
    "# Plot ini menggambarkan bahwa di bulan oktober adalah bulan paling banyak siswa melakuka registrasi dan pengunduran diri\n",
    "# Set ukuran plot\n",
    "plt.figure(figsize=(8, 6))\n",
    "\n",
    "# Membuat countplot\n",
    "sns.countplot(data=student_registration_merge_courses, x='Starting_Month', hue='date_unregistration')\n",
    "\n",
    "# Menambahkan judul\n",
    "plt.title('Count of Students by Starting Month with Hue for Date of Unregistration')\n",
    "\n",
    "# Menampilkan plot\n",
    "plt.xticks(rotation=45)\n",
    "plt.show()\n"
   ]
  },
  {
   "cell_type": "code",
   "execution_count": 35,
   "id": "usual-candle",
   "metadata": {
    "execution": {
     "iopub.execute_input": "2021-05-11T17:39:56.212277Z",
     "iopub.status.busy": "2021-05-11T17:39:56.211271Z",
     "iopub.status.idle": "2021-05-11T17:39:56.329537Z",
     "shell.execute_reply": "2021-05-11T17:39:56.328815Z"
    },
    "papermill": {
     "duration": 0.305681,
     "end_time": "2021-05-11T17:39:56.329693",
     "exception": false,
     "start_time": "2021-05-11T17:39:56.024012",
     "status": "completed"
    },
    "tags": []
   },
   "outputs": [
    {
     "data": {
      "image/png": "[encoded data removed]",
      "text/plain": [
       "<Figure size 500x500 with 1 Axes>"
      ]
     },
     "metadata": {},
     "output_type": "display_data"
    }
   ],
   "source": [
    "### Tahun 2014 terjadi peningkatan pada jumlah siswa yang mendaftar\n",
    "\n",
    "# Set ukuran plot\n",
    "plt.figure(figsize=(5, 5))\n",
    "\n",
    "# Membuat countplot\n",
    "sns.countplot(data=student_registration_merge_courses, x='Year')\n",
    "\n",
    "# Menambahkan judul\n",
    "plt.title('Count of Students by Year')\n",
    "\n",
    "# Menampilkan plot\n",
    "plt.show()"
   ]
  },
  {
   "cell_type": "code",
   "execution_count": 36,
   "id": "responsible-enclosure",
   "metadata": {
    "execution": {
     "iopub.execute_input": "2021-05-11T17:39:56.580076Z",
     "iopub.status.busy": "2021-05-11T17:39:56.570921Z",
     "iopub.status.idle": "2021-05-11T17:39:56.809574Z",
     "shell.execute_reply": "2021-05-11T17:39:56.808757Z"
    },
    "papermill": {
     "duration": 0.372176,
     "end_time": "2021-05-11T17:39:56.809749",
     "exception": false,
     "start_time": "2021-05-11T17:39:56.437573",
     "status": "completed"
    },
    "tags": []
   },
   "outputs": [
    {
     "data": {
      "image/png": "[encoded data removed]",
      "text/plain": [
       "<Figure size 800x600 with 1 Axes>"
      ]
     },
     "metadata": {},
     "output_type": "display_data"
    }
   ],
   "source": [
    "# Dan di tahun 2014 juga banyak yang menyelesaikan coursenya\n",
    "\n",
    "# Set ukuran plot\n",
    "plt.figure(figsize=(8, 6))\n",
    "\n",
    "# Membuat countplot dengan hue\n",
    "sns.countplot(data=student_registration_merge_courses, x='Year', hue='date_unregistration')\n",
    "\n",
    "# Menambahkan judul\n",
    "plt.title('Count of Students by Year with Hue for Date of Unregistration')\n",
    "\n",
    "# Menampilkan plot\n",
    "plt.xticks(rotation=45)\n",
    "plt.show()\n",
    "\n"
   ]
  },
  {
   "cell_type": "code",
   "execution_count": 37,
   "id": "imposed-freeze",
   "metadata": {
    "execution": {
     "iopub.execute_input": "2021-05-11T17:39:57.075299Z",
     "iopub.status.busy": "2021-05-11T17:39:57.073692Z",
     "iopub.status.idle": "2021-05-11T17:39:57.100866Z",
     "shell.execute_reply": "2021-05-11T17:39:57.100165Z"
    },
    "papermill": {
     "duration": 0.179257,
     "end_time": "2021-05-11T17:39:57.101078",
     "exception": false,
     "start_time": "2021-05-11T17:39:56.921821",
     "status": "completed"
    },
    "tags": []
   },
   "outputs": [
    {
     "data": {
      "text/html": [
       "<div>\n",
       "<style scoped>\n",
       "    .dataframe tbody tr th:only-of-type {\n",
       "        vertical-align: middle;\n",
       "    }\n",
       "\n",
       "    .dataframe tbody tr th {\n",
       "        vertical-align: top;\n",
       "    }\n",
       "\n",
       "    .dataframe thead th {\n",
       "        text-align: right;\n",
       "    }\n",
       "</style>\n",
       "<table border=\"1\" class=\"dataframe\">\n",
       "  <thead>\n",
       "    <tr style=\"text-align: right;\">\n",
       "      <th></th>\n",
       "      <th>date_unregistration</th>\n",
       "      <th>module_presentation_length</th>\n",
       "    </tr>\n",
       "  </thead>\n",
       "  <tbody>\n",
       "    <tr>\n",
       "      <th>0</th>\n",
       "      <td>0</td>\n",
       "      <td>256.095378</td>\n",
       "    </tr>\n",
       "    <tr>\n",
       "      <th>1</th>\n",
       "      <td>1</td>\n",
       "      <td>255.819500</td>\n",
       "    </tr>\n",
       "  </tbody>\n",
       "</table>\n",
       "</div>"
      ],
      "text/plain": [
       "  date_unregistration  module_presentation_length\n",
       "0                   0                  256.095378\n",
       "1                   1                  255.819500"
      ]
     },
     "execution_count": 37,
     "metadata": {},
     "output_type": "execute_result"
    }
   ],
   "source": [
    "# terlihat bahwa tidak ada perbedaan yang signifikan dalam durasi atau panjang kursus antara siswa yang menarik diri (withdrawn)\n",
    "# dan siswa yang menyelesaikan (completed) kursus pada tabel di bawah ini.\n",
    "\n",
    "student_registration_merge_courses.groupby('date_unregistration', as_index=False)['module_presentation_length'].mean()"
   ]
  },
  {
   "cell_type": "markdown",
   "id": "drawn-support",
   "metadata": {
    "papermill": {
     "duration": 0.113996,
     "end_time": "2021-05-11T17:39:57.330646",
     "exception": false,
     "start_time": "2021-05-11T17:39:57.216650",
     "status": "completed"
    },
    "tags": []
   },
   "source": [
    "###### Sekarang waktunya integrasi antara merge assessments Table dan studentAssessment Table untuk mengetahui korelasi antara assesment dan student performance"
   ]
  },
  {
   "cell_type": "code",
   "execution_count": 38,
   "id": "equivalent-response",
   "metadata": {
    "execution": {
     "iopub.execute_input": "2021-05-11T17:39:57.562529Z",
     "iopub.status.busy": "2021-05-11T17:39:57.561208Z",
     "iopub.status.idle": "2021-05-11T17:39:57.604467Z",
     "shell.execute_reply": "2021-05-11T17:39:57.603817Z"
    },
    "papermill": {
     "duration": 0.162482,
     "end_time": "2021-05-11T17:39:57.604660",
     "exception": false,
     "start_time": "2021-05-11T17:39:57.442178",
     "status": "completed"
    },
    "tags": []
   },
   "outputs": [],
   "source": [
    "student_assessment_merge_assessment = oulad_student_assessment.merge(oulad_assessment,\n",
    "                                                                     on = ['id_assessment'], how='left' )"
   ]
  },
  {
   "cell_type": "code",
   "execution_count": 39,
   "id": "powerful-values",
   "metadata": {
    "execution": {
     "iopub.execute_input": "2021-05-11T17:39:57.843600Z",
     "iopub.status.busy": "2021-05-11T17:39:57.842626Z",
     "iopub.status.idle": "2021-05-11T17:39:57.847543Z",
     "shell.execute_reply": "2021-05-11T17:39:57.846882Z"
    },
    "papermill": {
     "duration": 0.128494,
     "end_time": "2021-05-11T17:39:57.847695",
     "exception": false,
     "start_time": "2021-05-11T17:39:57.719201",
     "status": "completed"
    },
    "tags": []
   },
   "outputs": [
    {
     "data": {
      "text/plain": [
       "id_assessment          int64\n",
       "id_student             int64\n",
       "date_submitted         int64\n",
       "is_banked              int64\n",
       "score                float64\n",
       "code_module           object\n",
       "code_presentation     object\n",
       "assessment_type       object\n",
       "date                 float64\n",
       "weight               float64\n",
       "dtype: object"
      ]
     },
     "execution_count": 39,
     "metadata": {},
     "output_type": "execute_result"
    }
   ],
   "source": [
    "student_assessment_merge_assessment.dtypes"
   ]
  },
  {
   "cell_type": "markdown",
   "id": "393275fe",
   "metadata": {},
   "source": [
    "Code di bawah ini akan mengevaluasi apakah mahasiswa telah mengumpulkan tugas mereka terlambat atau tepat waktu berdasarkan dua kolom dalam data, yaitu \"date_submitted\" (hari setelah mahasiswa menerima tugas mereka) dan \"date\" (batas waktu pengumpulan dalam hari untuk tugas tersebut). Setelah evaluasi ini, kita akan menentukan apakah pengumpulan tugas tersebut terlambat atau tepat waktu, dengan menggunakan label 0 untuk tugas yang terlambat dan label 1 untuk tugas yang tepat waktu.\n",
    "\n",
    "Jadi, ini adalah langkah untuk mengkategorikan pengumpulan tugas mahasiswa dalam dua kategori, yakni \"terlambat\" atau \"tepat waktu,\" berdasarkan perbandingan antara tanggal pengumpulan dan batas waktu yang telah ditentukan"
   ]
  },
  {
   "cell_type": "code",
   "execution_count": 40,
   "id": "protecting-preservation",
   "metadata": {
    "execution": {
     "iopub.execute_input": "2021-05-11T17:39:58.086308Z",
     "iopub.status.busy": "2021-05-11T17:39:58.080788Z",
     "iopub.status.idle": "2021-05-11T17:40:02.654130Z",
     "shell.execute_reply": "2021-05-11T17:40:02.653439Z"
    },
    "papermill": {
     "duration": 4.695429,
     "end_time": "2021-05-11T17:40:02.654305",
     "exception": false,
     "start_time": "2021-05-11T17:39:57.958876",
     "status": "completed"
    },
    "tags": []
   },
   "outputs": [],
   "source": [
    "student_assessment_merge_assessment['Late_submission'] = ['0' if int(student_assessment_merge_assessment['date_submitted'].iloc[i]) \n",
    "                                                          > int(student_assessment_merge_assessment['date'].iloc[i]) else '1' \n",
    "                                                         for i in range(len(student_assessment_merge_assessment))]\n"
   ]
  },
  {
   "cell_type": "code",
   "execution_count": 41,
   "id": "recent-scoop",
   "metadata": {
    "execution": {
     "iopub.execute_input": "2021-05-11T17:40:02.916769Z",
     "iopub.status.busy": "2021-05-11T17:40:02.915399Z",
     "iopub.status.idle": "2021-05-11T17:40:02.953444Z",
     "shell.execute_reply": "2021-05-11T17:40:02.951904Z"
    },
    "papermill": {
     "duration": 0.184414,
     "end_time": "2021-05-11T17:40:02.953672",
     "exception": false,
     "start_time": "2021-05-11T17:40:02.769258",
     "status": "completed"
    },
    "tags": []
   },
   "outputs": [
    {
     "name": "stdout",
     "output_type": "stream",
     "text": [
      "Persentase Mahasiswa yang terlambat mengumpulkan: \n",
      "29.958155624240963\n"
     ]
    }
   ],
   "source": [
    "print('Persentase Mahasiswa yang terlambat mengumpulkan: ')\n",
    "print((len(student_assessment_merge_assessment[student_assessment_merge_assessment['Late_submission']=='0'])/len(student_assessment_merge_assessment)*100))"
   ]
  },
  {
   "cell_type": "code",
   "execution_count": 42,
   "id": "amended-carnival",
   "metadata": {
    "execution": {
     "iopub.execute_input": "2021-05-11T17:40:03.258128Z",
     "iopub.status.busy": "2021-05-11T17:40:03.257339Z",
     "iopub.status.idle": "2021-05-11T17:40:03.501485Z",
     "shell.execute_reply": "2021-05-11T17:40:03.500704Z"
    },
    "papermill": {
     "duration": 0.430251,
     "end_time": "2021-05-11T17:40:03.501641",
     "exception": false,
     "start_time": "2021-05-11T17:40:03.071390",
     "status": "completed"
    },
    "tags": []
   },
   "outputs": [
    {
     "name": "stdout",
     "output_type": "stream",
     "text": [
      "Late_submission                          0          1\n",
      "assessment_type assessment_type                      \n",
      "CMA             CMA              46.777830  53.222170\n",
      "Exam            Exam             57.914902  42.085098\n",
      "TMA             TMA              16.473797  83.526203\n"
     ]
    },
    {
     "data": {
      "image/png": "[encoded data removed]",
      "text/plain": [
       "<Figure size 1000x700 with 1 Axes>"
      ]
     },
     "metadata": {},
     "output_type": "display_data"
    }
   ],
   "source": [
    "# Ada 3 tipe penilaian di dalam modul :- Tutor Marked Assessment (TMA/Dosen), Computer Marked Assessment (CMA), Exams\n",
    "# Plot di bawah akan menunjukkan berapa banyak keterlambatan pengumpulan berdasarkan tipe penilaian\n",
    "\n",
    "stacked_plot(student_assessment_merge_assessment, 'assessment_type', 'Late_submission', 'id_student', plot_size=(10, 7))\n",
    "\n"
   ]
  },
  {
   "cell_type": "markdown",
   "id": "c81430f8",
   "metadata": {},
   "source": [
    "Plot di atas menunjukkan bahwa keterlambatan pengumpulan banyak ditemui pada CMA dan Exam"
   ]
  },
  {
   "cell_type": "code",
   "execution_count": 43,
   "id": "cubic-office",
   "metadata": {
    "execution": {
     "iopub.execute_input": "2021-05-11T17:40:03.755266Z",
     "iopub.status.busy": "2021-05-11T17:40:03.747673Z",
     "iopub.status.idle": "2021-05-11T17:40:04.067756Z",
     "shell.execute_reply": "2021-05-11T17:40:04.067086Z"
    },
    "papermill": {
     "duration": 0.447369,
     "end_time": "2021-05-11T17:40:04.068058",
     "exception": false,
     "start_time": "2021-05-11T17:40:03.620689",
     "status": "completed"
    },
    "tags": []
   },
   "outputs": [
    {
     "name": "stdout",
     "output_type": "stream",
     "text": [
      "Late_submission                  0          1\n",
      "code_module code_module                      \n",
      "AAA         AAA          25.810553  74.189447\n",
      "BBB         BBB          47.472021  52.527979\n",
      "CCC         CCC          69.063342  30.936658\n",
      "DDD         DDD          30.566283  69.433717\n",
      "EEE         EEE          14.544763  85.455237\n",
      "FFF         FFF          10.345268  89.654732\n",
      "GGG         GGG          10.049293  89.950707\n"
     ]
    },
    {
     "data": {
      "image/png": "[encoded data removed]",
      "text/plain": [
       "<Figure size 1200x800 with 1 Axes>"
      ]
     },
     "metadata": {},
     "output_type": "display_data"
    }
   ],
   "source": [
    "# Dataset mempunyai 7 code module. 4 modul untuk STEM dan 3 untuk Social Sciences\n",
    "# Social Sciences :- AAA, BBB, GGG\n",
    "# STEM :- CCC, DDD, EEE, FFF\n",
    "# Dapat dilihat dari plot di bawah ini bahwa keterlambatan pengumpulan banyak terjadi di Course BBB, CCC dan DDD\n",
    "\n",
    "\n",
    "stacked_plot(student_assessment_merge_assessment, 'code_module', 'Late_submission', 'id_student', plot_size=(12, 8))"
   ]
  },
  {
   "cell_type": "code",
   "execution_count": 44,
   "id": "temporal-laptop",
   "metadata": {
    "execution": {
     "iopub.execute_input": "2021-05-11T17:40:10.855007Z",
     "iopub.status.busy": "2021-05-11T17:40:10.853789Z",
     "iopub.status.idle": "2021-05-11T17:40:10.946035Z",
     "shell.execute_reply": "2021-05-11T17:40:10.945164Z"
    },
    "papermill": {
     "duration": 0.218898,
     "end_time": "2021-05-11T17:40:10.946244",
     "exception": false,
     "start_time": "2021-05-11T17:40:10.727346",
     "status": "completed"
    },
    "tags": []
   },
   "outputs": [
    {
     "name": "stdout",
     "output_type": "stream",
     "text": [
      "[ 10.   20.   30.    5.   18.    1.    0.   35.    9.   22.    2.    7.\n",
      "   8.  100.    7.5  12.5  15.    3.    4.    6.   17.5  25.   16.   28. ]\n"
     ]
    }
   ],
   "source": [
    "## Dalam assesment terdapat bobot penilaian dan dari bobot tersebut dapat mempengaruhi hasil akhir siswa. \n",
    "## Disini akan saya buat 3 kategori bobot pada penilaian assesment yang ada\n",
    "\n",
    "print(student_assessment_merge_assessment['weight'].unique())\n",
    "\n",
    "percentage_segment = []\n",
    "\n",
    "for percent in student_assessment_merge_assessment['weight']:\n",
    "    if percent <= 10:\n",
    "        percentage_segment.append('Low_Weightage')\n",
    "    elif percent > 10 and percent <= 30:\n",
    "        percentage_segment.append('Medium_Weightage')\n",
    "    else:\n",
    "        percentage_segment.append('High_Weightage')\n",
    "        \n",
    "student_assessment_merge_assessment['Weigthage'] = percentage_segment"
   ]
  },
  {
   "cell_type": "markdown",
   "id": "bf36c333",
   "metadata": {},
   "source": [
    "Maka bisa terlihat dari plot diatas bahwasanya siswa yang mengumpulkan terlambat  mempunyai rasio gagal yang lebih tinggi walaupun persentasi lulusnya juga tinggi"
   ]
  },
  {
   "cell_type": "code",
   "execution_count": 45,
   "id": "technical-provincial",
   "metadata": {
    "execution": {
     "iopub.execute_input": "2021-05-11T17:40:12.166465Z",
     "iopub.status.busy": "2021-05-11T17:40:12.165457Z",
     "iopub.status.idle": "2021-05-11T17:40:12.185982Z",
     "shell.execute_reply": "2021-05-11T17:40:12.186575Z"
    },
    "papermill": {
     "duration": 0.14633,
     "end_time": "2021-05-11T17:40:12.186754",
     "exception": false,
     "start_time": "2021-05-11T17:40:12.040424",
     "status": "completed"
    },
    "tags": []
   },
   "outputs": [
    {
     "data": {
      "text/html": [
       "<div>\n",
       "<style scoped>\n",
       "    .dataframe tbody tr th:only-of-type {\n",
       "        vertical-align: middle;\n",
       "    }\n",
       "\n",
       "    .dataframe tbody tr th {\n",
       "        vertical-align: top;\n",
       "    }\n",
       "\n",
       "    .dataframe thead th {\n",
       "        text-align: right;\n",
       "    }\n",
       "</style>\n",
       "<table border=\"1\" class=\"dataframe\">\n",
       "  <thead>\n",
       "    <tr style=\"text-align: right;\">\n",
       "      <th></th>\n",
       "      <th>id_assessment</th>\n",
       "      <th>id_student</th>\n",
       "      <th>date_submitted</th>\n",
       "      <th>is_banked</th>\n",
       "      <th>score</th>\n",
       "      <th>code_module</th>\n",
       "      <th>code_presentation</th>\n",
       "      <th>assessment_type</th>\n",
       "      <th>date</th>\n",
       "      <th>weight</th>\n",
       "      <th>Late_submission</th>\n",
       "      <th>Weigthage</th>\n",
       "    </tr>\n",
       "  </thead>\n",
       "  <tbody>\n",
       "    <tr>\n",
       "      <th>0</th>\n",
       "      <td>1752</td>\n",
       "      <td>11391</td>\n",
       "      <td>18</td>\n",
       "      <td>0</td>\n",
       "      <td>78.0</td>\n",
       "      <td>AAA</td>\n",
       "      <td>2013J</td>\n",
       "      <td>TMA</td>\n",
       "      <td>19.0</td>\n",
       "      <td>10.0</td>\n",
       "      <td>1</td>\n",
       "      <td>Low_Weightage</td>\n",
       "    </tr>\n",
       "    <tr>\n",
       "      <th>1</th>\n",
       "      <td>1752</td>\n",
       "      <td>28400</td>\n",
       "      <td>22</td>\n",
       "      <td>0</td>\n",
       "      <td>70.0</td>\n",
       "      <td>AAA</td>\n",
       "      <td>2013J</td>\n",
       "      <td>TMA</td>\n",
       "      <td>19.0</td>\n",
       "      <td>10.0</td>\n",
       "      <td>0</td>\n",
       "      <td>Low_Weightage</td>\n",
       "    </tr>\n",
       "    <tr>\n",
       "      <th>2</th>\n",
       "      <td>1752</td>\n",
       "      <td>31604</td>\n",
       "      <td>17</td>\n",
       "      <td>0</td>\n",
       "      <td>72.0</td>\n",
       "      <td>AAA</td>\n",
       "      <td>2013J</td>\n",
       "      <td>TMA</td>\n",
       "      <td>19.0</td>\n",
       "      <td>10.0</td>\n",
       "      <td>1</td>\n",
       "      <td>Low_Weightage</td>\n",
       "    </tr>\n",
       "    <tr>\n",
       "      <th>3</th>\n",
       "      <td>1752</td>\n",
       "      <td>32885</td>\n",
       "      <td>26</td>\n",
       "      <td>0</td>\n",
       "      <td>69.0</td>\n",
       "      <td>AAA</td>\n",
       "      <td>2013J</td>\n",
       "      <td>TMA</td>\n",
       "      <td>19.0</td>\n",
       "      <td>10.0</td>\n",
       "      <td>0</td>\n",
       "      <td>Low_Weightage</td>\n",
       "    </tr>\n",
       "    <tr>\n",
       "      <th>4</th>\n",
       "      <td>1752</td>\n",
       "      <td>38053</td>\n",
       "      <td>19</td>\n",
       "      <td>0</td>\n",
       "      <td>79.0</td>\n",
       "      <td>AAA</td>\n",
       "      <td>2013J</td>\n",
       "      <td>TMA</td>\n",
       "      <td>19.0</td>\n",
       "      <td>10.0</td>\n",
       "      <td>1</td>\n",
       "      <td>Low_Weightage</td>\n",
       "    </tr>\n",
       "  </tbody>\n",
       "</table>\n",
       "</div>"
      ],
      "text/plain": [
       "   id_assessment  id_student  date_submitted  is_banked  score code_module   \n",
       "0           1752       11391              18          0   78.0         AAA  \\\n",
       "1           1752       28400              22          0   70.0         AAA   \n",
       "2           1752       31604              17          0   72.0         AAA   \n",
       "3           1752       32885              26          0   69.0         AAA   \n",
       "4           1752       38053              19          0   79.0         AAA   \n",
       "\n",
       "  code_presentation assessment_type  date  weight Late_submission   \n",
       "0             2013J             TMA  19.0    10.0               1  \\\n",
       "1             2013J             TMA  19.0    10.0               0   \n",
       "2             2013J             TMA  19.0    10.0               1   \n",
       "3             2013J             TMA  19.0    10.0               0   \n",
       "4             2013J             TMA  19.0    10.0               1   \n",
       "\n",
       "       Weigthage  \n",
       "0  Low_Weightage  \n",
       "1  Low_Weightage  \n",
       "2  Low_Weightage  \n",
       "3  Low_Weightage  \n",
       "4  Low_Weightage  "
      ]
     },
     "execution_count": 45,
     "metadata": {},
     "output_type": "execute_result"
    }
   ],
   "source": [
    "student_assessment_merge_assessment.head()"
   ]
  },
  {
   "cell_type": "markdown",
   "id": "spiritual-mixture",
   "metadata": {
    "papermill": {
     "duration": 0.121747,
     "end_time": "2021-05-11T17:40:12.429471",
     "exception": false,
     "start_time": "2021-05-11T17:40:12.307724",
     "status": "completed"
    },
    "tags": []
   },
   "source": [
    "###### Integrasi VLE DATA Dengan STUDENT INFO DATA"
   ]
  },
  {
   "cell_type": "code",
   "execution_count": 46,
   "id": "hybrid-beast",
   "metadata": {
    "execution": {
     "iopub.execute_input": "2021-05-11T17:40:12.675610Z",
     "iopub.status.busy": "2021-05-11T17:40:12.674604Z",
     "iopub.status.idle": "2021-05-11T17:40:12.720747Z",
     "shell.execute_reply": "2021-05-11T17:40:12.721248Z"
    },
    "papermill": {
     "duration": 0.171092,
     "end_time": "2021-05-11T17:40:12.721436",
     "exception": false,
     "start_time": "2021-05-11T17:40:12.550344",
     "status": "completed"
    },
    "scrolled": true,
    "tags": []
   },
   "outputs": [],
   "source": [
    "student_info = oulad_student_info.merge(student_vle_merge_vle, \n",
    "                                        on = ['code_module', 'code_presentation', 'id_student'],\n",
    "                                        how = 'left')"
   ]
  },
  {
   "cell_type": "code",
   "execution_count": 47,
   "id": "frozen-watch",
   "metadata": {
    "execution": {
     "iopub.execute_input": "2021-05-11T17:40:17.433967Z",
     "iopub.status.busy": "2021-05-11T17:40:17.433261Z",
     "iopub.status.idle": "2021-05-11T17:40:17.440180Z",
     "shell.execute_reply": "2021-05-11T17:40:17.440755Z"
    },
    "papermill": {
     "duration": 0.149189,
     "end_time": "2021-05-11T17:40:17.440946",
     "exception": false,
     "start_time": "2021-05-11T17:40:17.291757",
     "status": "completed"
    },
    "tags": []
   },
   "outputs": [
    {
     "data": {
      "text/plain": [
       "array(['HE Qualification', 'A Level or Equivalent', 'Lower Than A Level',\n",
       "       'Post Graduate Qualification', 'No Formal quals'], dtype=object)"
      ]
     },
     "execution_count": 47,
     "metadata": {},
     "output_type": "execute_result"
    }
   ],
   "source": [
    "student_info['highest_education'].unique()"
   ]
  },
  {
   "cell_type": "markdown",
   "id": "lonely-pasta",
   "metadata": {
    "papermill": {
     "duration": 0.148326,
     "end_time": "2021-05-11T17:40:21.974729",
     "exception": false,
     "start_time": "2021-05-11T17:40:21.826403",
     "status": "completed"
    },
    "tags": []
   },
   "source": [
    "###### Integrasi Student Info dengan Student Registration"
   ]
  },
  {
   "cell_type": "code",
   "execution_count": 48,
   "id": "strange-clerk",
   "metadata": {
    "execution": {
     "iopub.execute_input": "2021-05-11T17:40:22.281739Z",
     "iopub.status.busy": "2021-05-11T17:40:22.280941Z",
     "iopub.status.idle": "2021-05-11T17:40:22.284370Z",
     "shell.execute_reply": "2021-05-11T17:40:22.283717Z"
    },
    "papermill": {
     "duration": 0.15747,
     "end_time": "2021-05-11T17:40:22.284511",
     "exception": false,
     "start_time": "2021-05-11T17:40:22.127041",
     "status": "completed"
    },
    "tags": []
   },
   "outputs": [],
   "source": [
    "student_registration_merge_courses = student_registration_merge_courses.drop('date_unregistration', axis = 1)"
   ]
  },
  {
   "cell_type": "code",
   "execution_count": 49,
   "id": "proper-sense",
   "metadata": {
    "execution": {
     "iopub.execute_input": "2021-05-11T17:40:22.583901Z",
     "iopub.status.busy": "2021-05-11T17:40:22.582657Z",
     "iopub.status.idle": "2021-05-11T17:40:22.623117Z",
     "shell.execute_reply": "2021-05-11T17:40:22.623619Z"
    },
    "papermill": {
     "duration": 0.190887,
     "end_time": "2021-05-11T17:40:22.623816",
     "exception": false,
     "start_time": "2021-05-11T17:40:22.432929",
     "status": "completed"
    },
    "tags": []
   },
   "outputs": [],
   "source": [
    "student_info = student_info.merge(student_registration_merge_courses,\n",
    "                                 on = ['code_module', 'code_presentation', 'id_student'],\n",
    "                                 how = 'left')"
   ]
  },
  {
   "cell_type": "code",
   "execution_count": 50,
   "id": "orange-craps",
   "metadata": {
    "execution": {
     "iopub.execute_input": "2021-05-11T17:40:25.094440Z",
     "iopub.status.busy": "2021-05-11T17:40:25.093367Z",
     "iopub.status.idle": "2021-05-11T17:40:25.120561Z",
     "shell.execute_reply": "2021-05-11T17:40:25.121141Z"
    },
    "papermill": {
     "duration": 0.189158,
     "end_time": "2021-05-11T17:40:25.121341",
     "exception": false,
     "start_time": "2021-05-11T17:40:24.932183",
     "status": "completed"
    },
    "tags": []
   },
   "outputs": [],
   "source": [
    "student_info['num_of_prev_attempts'] = [0 if attempts == 0 else 1 for attempts in student_info['num_of_prev_attempts']]"
   ]
  },
  {
   "cell_type": "markdown",
   "id": "demonstrated-juice",
   "metadata": {
    "papermill": {
     "duration": 0.157298,
     "end_time": "2021-05-11T17:40:28.523917",
     "exception": false,
     "start_time": "2021-05-11T17:40:28.366619",
     "status": "completed"
    },
    "tags": []
   },
   "source": [
    "# DATA PREPARATION\n",
    "#### Feature Selection\n",
    "#### Data Encoding\n",
    "#### Splitting Data"
   ]
  },
  {
   "cell_type": "code",
   "execution_count": 51,
   "id": "stuck-ocean",
   "metadata": {
    "execution": {
     "iopub.execute_input": "2021-05-11T17:40:29.169713Z",
     "iopub.status.busy": "2021-05-11T17:40:29.169023Z",
     "iopub.status.idle": "2021-05-11T17:40:29.172313Z",
     "shell.execute_reply": "2021-05-11T17:40:29.172922Z"
    },
    "papermill": {
     "duration": 0.162484,
     "end_time": "2021-05-11T17:40:29.173133",
     "exception": false,
     "start_time": "2021-05-11T17:40:29.010649",
     "status": "completed"
    },
    "tags": []
   },
   "outputs": [],
   "source": [
    "student_info['date_registration'] = student_info['date_registration'].astype(float)"
   ]
  },
  {
   "cell_type": "code",
   "execution_count": 52,
   "id": "nutritional-skirt",
   "metadata": {
    "execution": {
     "iopub.execute_input": "2021-05-11T17:40:29.486226Z",
     "iopub.status.busy": "2021-05-11T17:40:29.485549Z",
     "iopub.status.idle": "2021-05-11T17:40:29.499212Z",
     "shell.execute_reply": "2021-05-11T17:40:29.498660Z"
    },
    "papermill": {
     "duration": 0.171169,
     "end_time": "2021-05-11T17:40:29.499357",
     "exception": false,
     "start_time": "2021-05-11T17:40:29.328188",
     "status": "completed"
    },
    "tags": []
   },
   "outputs": [
    {
     "data": {
      "text/plain": [
       "count    1.065864e+07\n",
       "mean     6.931983e+01\n",
       "std      4.764116e+01\n",
       "min      0.000000e+00\n",
       "25%      2.900000e+01\n",
       "50%      5.700000e+01\n",
       "75%      9.900000e+01\n",
       "max      3.220000e+02\n",
       "Name: date_registration, dtype: float64"
      ]
     },
     "execution_count": 52,
     "metadata": {},
     "output_type": "execute_result"
    }
   ],
   "source": [
    "student_info['date_registration'].describe()"
   ]
  },
  {
   "cell_type": "code",
   "execution_count": 53,
   "id": "helpful-silicon",
   "metadata": {
    "execution": {
     "iopub.execute_input": "2021-05-11T17:40:29.833376Z",
     "iopub.status.busy": "2021-05-11T17:40:29.832257Z",
     "iopub.status.idle": "2021-05-11T17:40:29.837519Z",
     "shell.execute_reply": "2021-05-11T17:40:29.836867Z"
    },
    "papermill": {
     "duration": 0.183958,
     "end_time": "2021-05-11T17:40:29.837757",
     "exception": false,
     "start_time": "2021-05-11T17:40:29.653799",
     "status": "completed"
    },
    "scrolled": true,
    "tags": []
   },
   "outputs": [
    {
     "data": {
      "text/html": [
       "<div>\n",
       "<style scoped>\n",
       "    .dataframe tbody tr th:only-of-type {\n",
       "        vertical-align: middle;\n",
       "    }\n",
       "\n",
       "    .dataframe tbody tr th {\n",
       "        vertical-align: top;\n",
       "    }\n",
       "\n",
       "    .dataframe thead th {\n",
       "        text-align: right;\n",
       "    }\n",
       "</style>\n",
       "<table border=\"1\" class=\"dataframe\">\n",
       "  <thead>\n",
       "    <tr style=\"text-align: right;\">\n",
       "      <th></th>\n",
       "      <th>code_module</th>\n",
       "      <th>code_presentation</th>\n",
       "      <th>id_student</th>\n",
       "      <th>gender</th>\n",
       "      <th>region</th>\n",
       "      <th>highest_education</th>\n",
       "      <th>imd_band</th>\n",
       "      <th>age_band</th>\n",
       "      <th>num_of_prev_attempts</th>\n",
       "      <th>studied_credits</th>\n",
       "      <th>disability</th>\n",
       "      <th>final_result</th>\n",
       "      <th>id_site</th>\n",
       "      <th>date</th>\n",
       "      <th>sum_click</th>\n",
       "      <th>activity_type</th>\n",
       "      <th>date_registration</th>\n",
       "      <th>module_presentation_length</th>\n",
       "      <th>Year</th>\n",
       "      <th>Starting_Month</th>\n",
       "    </tr>\n",
       "  </thead>\n",
       "  <tbody>\n",
       "    <tr>\n",
       "      <th>0</th>\n",
       "      <td>AAA</td>\n",
       "      <td>2013J</td>\n",
       "      <td>11391</td>\n",
       "      <td>M</td>\n",
       "      <td>East Anglian Region</td>\n",
       "      <td>HE Qualification</td>\n",
       "      <td>90-100%</td>\n",
       "      <td>55&lt;=</td>\n",
       "      <td>0</td>\n",
       "      <td>240</td>\n",
       "      <td>N</td>\n",
       "      <td>Pass</td>\n",
       "      <td>546669.0</td>\n",
       "      <td>-5.0</td>\n",
       "      <td>16.0</td>\n",
       "      <td>oucontent</td>\n",
       "      <td>159.0</td>\n",
       "      <td>268</td>\n",
       "      <td>2013</td>\n",
       "      <td>October</td>\n",
       "    </tr>\n",
       "    <tr>\n",
       "      <th>1</th>\n",
       "      <td>AAA</td>\n",
       "      <td>2013J</td>\n",
       "      <td>11391</td>\n",
       "      <td>M</td>\n",
       "      <td>East Anglian Region</td>\n",
       "      <td>HE Qualification</td>\n",
       "      <td>90-100%</td>\n",
       "      <td>55&lt;=</td>\n",
       "      <td>0</td>\n",
       "      <td>240</td>\n",
       "      <td>N</td>\n",
       "      <td>Pass</td>\n",
       "      <td>546662.0</td>\n",
       "      <td>-5.0</td>\n",
       "      <td>44.0</td>\n",
       "      <td>oucontent</td>\n",
       "      <td>159.0</td>\n",
       "      <td>268</td>\n",
       "      <td>2013</td>\n",
       "      <td>October</td>\n",
       "    </tr>\n",
       "    <tr>\n",
       "      <th>2</th>\n",
       "      <td>AAA</td>\n",
       "      <td>2013J</td>\n",
       "      <td>11391</td>\n",
       "      <td>M</td>\n",
       "      <td>East Anglian Region</td>\n",
       "      <td>HE Qualification</td>\n",
       "      <td>90-100%</td>\n",
       "      <td>55&lt;=</td>\n",
       "      <td>0</td>\n",
       "      <td>240</td>\n",
       "      <td>N</td>\n",
       "      <td>Pass</td>\n",
       "      <td>546652.0</td>\n",
       "      <td>-5.0</td>\n",
       "      <td>1.0</td>\n",
       "      <td>forumng</td>\n",
       "      <td>159.0</td>\n",
       "      <td>268</td>\n",
       "      <td>2013</td>\n",
       "      <td>October</td>\n",
       "    </tr>\n",
       "    <tr>\n",
       "      <th>3</th>\n",
       "      <td>AAA</td>\n",
       "      <td>2013J</td>\n",
       "      <td>11391</td>\n",
       "      <td>M</td>\n",
       "      <td>East Anglian Region</td>\n",
       "      <td>HE Qualification</td>\n",
       "      <td>90-100%</td>\n",
       "      <td>55&lt;=</td>\n",
       "      <td>0</td>\n",
       "      <td>240</td>\n",
       "      <td>N</td>\n",
       "      <td>Pass</td>\n",
       "      <td>546668.0</td>\n",
       "      <td>-5.0</td>\n",
       "      <td>2.0</td>\n",
       "      <td>oucontent</td>\n",
       "      <td>159.0</td>\n",
       "      <td>268</td>\n",
       "      <td>2013</td>\n",
       "      <td>October</td>\n",
       "    </tr>\n",
       "    <tr>\n",
       "      <th>4</th>\n",
       "      <td>AAA</td>\n",
       "      <td>2013J</td>\n",
       "      <td>11391</td>\n",
       "      <td>M</td>\n",
       "      <td>East Anglian Region</td>\n",
       "      <td>HE Qualification</td>\n",
       "      <td>90-100%</td>\n",
       "      <td>55&lt;=</td>\n",
       "      <td>0</td>\n",
       "      <td>240</td>\n",
       "      <td>N</td>\n",
       "      <td>Pass</td>\n",
       "      <td>546652.0</td>\n",
       "      <td>-5.0</td>\n",
       "      <td>1.0</td>\n",
       "      <td>forumng</td>\n",
       "      <td>159.0</td>\n",
       "      <td>268</td>\n",
       "      <td>2013</td>\n",
       "      <td>October</td>\n",
       "    </tr>\n",
       "  </tbody>\n",
       "</table>\n",
       "</div>"
      ],
      "text/plain": [
       "  code_module code_presentation  id_student gender               region   \n",
       "0         AAA             2013J       11391      M  East Anglian Region  \\\n",
       "1         AAA             2013J       11391      M  East Anglian Region   \n",
       "2         AAA             2013J       11391      M  East Anglian Region   \n",
       "3         AAA             2013J       11391      M  East Anglian Region   \n",
       "4         AAA             2013J       11391      M  East Anglian Region   \n",
       "\n",
       "  highest_education imd_band age_band  num_of_prev_attempts  studied_credits   \n",
       "0  HE Qualification  90-100%     55<=                     0              240  \\\n",
       "1  HE Qualification  90-100%     55<=                     0              240   \n",
       "2  HE Qualification  90-100%     55<=                     0              240   \n",
       "3  HE Qualification  90-100%     55<=                     0              240   \n",
       "4  HE Qualification  90-100%     55<=                     0              240   \n",
       "\n",
       "  disability final_result   id_site  date  sum_click activity_type   \n",
       "0          N         Pass  546669.0  -5.0       16.0     oucontent  \\\n",
       "1          N         Pass  546662.0  -5.0       44.0     oucontent   \n",
       "2          N         Pass  546652.0  -5.0        1.0       forumng   \n",
       "3          N         Pass  546668.0  -5.0        2.0     oucontent   \n",
       "4          N         Pass  546652.0  -5.0        1.0       forumng   \n",
       "\n",
       "   date_registration  module_presentation_length  Year Starting_Month  \n",
       "0              159.0                         268  2013        October  \n",
       "1              159.0                         268  2013        October  \n",
       "2              159.0                         268  2013        October  \n",
       "3              159.0                         268  2013        October  \n",
       "4              159.0                         268  2013        October  "
      ]
     },
     "execution_count": 53,
     "metadata": {},
     "output_type": "execute_result"
    }
   ],
   "source": [
    "student_info.head()"
   ]
  },
  {
   "cell_type": "code",
   "execution_count": null,
   "id": "e8798097",
   "metadata": {},
   "outputs": [],
   "source": [
    "student_info.to_csv('OULADBIAS.csv', index=False)"
   ]
  }
 ],
 "metadata": {
  "kernelspec": {
   "display_name": "Python 3",
   "language": "python",
   "name": "python3"
  },
  "language_info": {
   "codemirror_mode": {
    "name": "ipython",
    "version": 3
   },
   "file_extension": ".py",
   "mimetype": "text/x-python",
   "name": "python",
   "nbconvert_exporter": "python",
   "pygments_lexer": "ipython3",
   "version": "3.9.12"
  },
  "papermill": {
   "default_parameters": {},
   "duration": 115.123683,
   "end_time": "2021-05-11T17:40:48.825031",
   "environment_variables": {},
   "exception": null,
   "input_path": "__notebook__.ipynb",
   "output_path": "__notebook__.ipynb",
   "parameters": {},
   "start_time": "2021-05-11T17:38:53.701348",
   "version": "2.3.2"
  }
 },
 "nbformat": 4,
 "nbformat_minor": 5
}
